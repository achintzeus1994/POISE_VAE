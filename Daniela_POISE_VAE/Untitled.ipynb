{
 "cells": [
  {
   "cell_type": "code",
   "execution_count": 5,
   "id": "about-salvation",
   "metadata": {},
   "outputs": [
    {
     "ename": "IndexError",
     "evalue": "list index out of range",
     "output_type": "error",
     "traceback": [
      "\u001b[0;31m---------------------------------------------------------------------------\u001b[0m",
      "\u001b[0;31mIndexError\u001b[0m                                Traceback (most recent call last)",
      "\u001b[0;32m<ipython-input-5-8ded0dbb07ff>\u001b[0m in \u001b[0;36m<module>\u001b[0;34m\u001b[0m\n\u001b[1;32m      2\u001b[0m \u001b[0;31m# load data\u001b[0m\u001b[0;34m\u001b[0m\u001b[0;34m\u001b[0m\u001b[0;34m\u001b[0m\u001b[0m\n\u001b[1;32m      3\u001b[0m \u001b[0mlocaldisk\u001b[0m \u001b[0;34m=\u001b[0m \u001b[0;34m'/hdd/pgupta/musall2019/'\u001b[0m \u001b[0;31m# where demo_dataset1_2_540_640_uint16.bin or large dataset is\u001b[0m\u001b[0;34m\u001b[0m\u001b[0;34m\u001b[0m\u001b[0m\n\u001b[0;32m----> 4\u001b[0;31m \u001b[0mdata_path\u001b[0m \u001b[0;34m=\u001b[0m \u001b[0mglob\u001b[0m\u001b[0;34m(\u001b[0m\u001b[0mpjoin\u001b[0m\u001b[0;34m(\u001b[0m\u001b[0mlocaldisk\u001b[0m\u001b[0;34m,\u001b[0m\u001b[0;34m'*.bin'\u001b[0m\u001b[0;34m)\u001b[0m\u001b[0;34m)\u001b[0m\u001b[0;34m[\u001b[0m\u001b[0;36m0\u001b[0m\u001b[0;34m]\u001b[0m \u001b[0;31m# do '*.dat' for the 50 GB file\u001b[0m\u001b[0;34m\u001b[0m\u001b[0;34m\u001b[0m\u001b[0m\n\u001b[0m\u001b[1;32m      5\u001b[0m \u001b[0mdata\u001b[0m \u001b[0;34m=\u001b[0m \u001b[0mload_dat\u001b[0m\u001b[0;34m(\u001b[0m\u001b[0mdat_path\u001b[0m\u001b[0;34m)\u001b[0m \u001b[0;31m# can do mmap_dat(data_path) if file size is larger than RAM\u001b[0m\u001b[0;34m\u001b[0m\u001b[0;34m\u001b[0m\u001b[0m\n",
      "\u001b[0;31mIndexError\u001b[0m: list index out of range"
     ]
    }
   ],
   "source": [
    "from wfield import *\n",
    "# load data\n",
    "localdisk = '/hdd/pgupta/musall2019/' # where demo_dataset1_2_540_640_uint16.bin or large dataset is\n",
    "data_path = glob(pjoin(localdisk,'*.bin'))[0] # do '*.dat' for the 50 GB file\n",
    "data = load_dat(dat_path) # can do mmap_dat(data_path) if file size is larger than RAM"
   ]
  },
  {
   "cell_type": "code",
   "execution_count": 6,
   "id": "dressed-jacksonville",
   "metadata": {},
   "outputs": [
    {
     "data": {
      "text/plain": [
       "'/hdd/pgupta/musall2019/'"
      ]
     },
     "execution_count": 6,
     "metadata": {},
     "output_type": "execute_result"
    }
   ],
   "source": [
    "localdisk"
   ]
  },
  {
   "cell_type": "code",
   "execution_count": null,
   "id": "immediate-disco",
   "metadata": {},
   "outputs": [],
   "source": []
  }
 ],
 "metadata": {
  "kernelspec": {
   "display_name": "achint-env2",
   "language": "python",
   "name": "achint-env2"
  },
  "language_info": {
   "codemirror_mode": {
    "name": "ipython",
    "version": 3
   },
   "file_extension": ".py",
   "mimetype": "text/x-python",
   "name": "python",
   "nbconvert_exporter": "python",
   "pygments_lexer": "ipython3",
   "version": "3.8.10"
  }
 },
 "nbformat": 4,
 "nbformat_minor": 5
}
