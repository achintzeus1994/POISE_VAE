{
 "cells": [
  {
   "cell_type": "code",
   "execution_count": 25,
   "id": "formal-gross",
   "metadata": {},
   "outputs": [],
   "source": [
    "import torch\n",
    "import numpy as np\n",
    "from torch.utils.data import DataLoader\n",
    "import matplotlib\n",
    "import matplotlib.pyplot as plt\n",
    "import torch.nn as nn\n",
    "import torch.optim as optim\n",
    "from torch.nn import functional as F  #for the activation function"
   ]
  },
  {
   "cell_type": "code",
   "execution_count": 26,
   "id": "saving-beatles",
   "metadata": {},
   "outputs": [],
   "source": [
    "## I will create a dataset of one dimensional gaussian. Pass it through VAE and seee if the lateent space learns \n",
    "## the correct mu and sigma\n",
    "\n",
    "def sample(mu, var, nb_samples):\n",
    "    \"\"\"\n",
    "    :param mu: torch.Tensor (features)\n",
    "    :param var: torch.Tensor (features) (note: zero covariance)\n",
    "    :return: torch.Tensor (nb_samples, features)\n",
    "    \"\"\"\n",
    "    out = []\n",
    "    for i in range(nb_samples):\n",
    "        out += [torch.normal(mu, var.sqrt())]\n",
    "    return torch.stack(out, dim=0)"
   ]
  },
  {
   "cell_type": "code",
   "execution_count": 27,
   "id": "executed-modem",
   "metadata": {},
   "outputs": [
    {
     "data": {
      "image/png": "[encoded data removed]",
      "text/plain": [
       "<Figure size 432x288 with 1 Axes>"
      ]
     },
     "metadata": {
      "needs_background": "light"
     },
     "output_type": "display_data"
    },
    {
     "name": "stdout",
     "output_type": "stream",
     "text": [
      "tensor(0.)\n",
      "tensor(4.)\n"
     ]
    }
   ],
   "source": [
    "## Creating synthetic dataset\n",
    "nb_samples=5000\n",
    "mu  =torch.tensor(0.)   # . converts long to float\n",
    "var =torch.tensor(4.0)\n",
    "inp_data=sample(mu,var,nb_samples)\n",
    "inp_data=inp_data.unsqueeze(0)\n",
    "inp_data=torch.transpose(inp_data,0,1)\n",
    "## for data visualization\n",
    "inp_data_vis=inp_data.numpy()\n",
    "n,bins,patches=plt.hist(inp_data_vis,'auto',density=1)\n",
    "y=1/(np.sqrt(2*np.pi*var))*np.exp(-0.5*(bins-mu.numpy())**2/var)\n",
    "plt.plot(bins,y,'--')\n",
    "plt.show()\n",
    "print(mu)\n",
    "print(var)"
   ]
  },
  {
   "cell_type": "code",
   "execution_count": 28,
   "id": "danish-accused",
   "metadata": {},
   "outputs": [],
   "source": [
    "## Transforming data to a higher dimension\n",
    "\"\"\"\n",
    "inp_data= samplesx1\n",
    "fun_A   = 1xdim_exp\n",
    "data    = samplesxdim_exp   (data = inp_dataxfun_A)\n",
    "\"\"\"\n",
    "dim_exp = 4 \n",
    "fun_A   = torch.normal(0, 1, size=(1, dim_exp))  ## random tensor of size dim_expxdata_samples mean=0, var=1, s\n",
    "data    = inp_data*fun_A"
   ]
  },
  {
   "cell_type": "code",
   "execution_count": 16,
   "id": "finished-settle",
   "metadata": {},
   "outputs": [],
   "source": [
    "## Hyperparameters\n",
    "epochs     = 40\n",
    "batch_size = 64\n",
    "lr         = 1e-4\n",
    "device     = torch.device('cuda' if torch.cuda.is_available() else 'cpu')\n"
   ]
  },
  {
   "cell_type": "code",
   "execution_count": 17,
   "id": "together-effectiveness",
   "metadata": {},
   "outputs": [],
   "source": [
    "## Creating synthetic dataloader\n",
    "\n",
    "train_loader = DataLoader(\n",
    "    data[0:int(0.8*nb_samples),],   ## 80% of data used for training\n",
    "    batch_size=batch_size,\n",
    "    shuffle=True,\n",
    "    drop_last=True\n",
    ")\n",
    "test_loader = DataLoader(\n",
    "    data[int(0.8*nb_samples):,],\n",
    "    batch_size=batch_size,\n",
    "    shuffle=True,\n",
    "    drop_last=True\n",
    ")"
   ]
  },
  {
   "cell_type": "code",
   "execution_count": 18,
   "id": "consolidated-japanese",
   "metadata": {},
   "outputs": [],
   "source": [
    "## Neural net is like: [mu,logvar]=(relu(xA))B,x=sig((relu(zC))D)\n",
    "\n",
    "latent_dim = 1\n",
    "class VAE(nn.Module):\n",
    "    def __init__(self):\n",
    "        super(VAE,self).__init__()\n",
    "        ## Encoder\n",
    "        self.enc1 = nn.Linear(in_features = dim_exp,out_features = 64)\n",
    "        self.enc2 = nn.Linear(in_features = 64     ,out_features = 32)\n",
    "        self.enc3 = nn.Linear(in_features = 32     ,out_features = 2 )\n",
    "\n",
    "        ## Decoder\n",
    "        self.dec1 = nn.Linear(in_features = 1      ,out_features = dim_exp)\n",
    "        self.dec2 = nn.Linear(in_features = 1      ,out_features = dim_exp)\n",
    "\n",
    "    def reparameterize(self,mu,log_var):\n",
    "        std = torch.exp(0.5*log_var)\n",
    "        eps = torch.randn_like(std)\n",
    "        z   = mu+eps*std\n",
    "        return z\n",
    "    def forward(self,x):\n",
    "        ## encoding\n",
    "        x       = F.relu(self.enc1(x))\n",
    "        x       = F.relu(self.enc2(x))\n",
    "        x       = self.enc3(x)\n",
    "        ## reparametrization        \n",
    "        mu      = x[:,0]\n",
    "        log_var = x[:,1]\n",
    "        z       = self.reparameterize(mu,log_var)\n",
    "        z       = z.unsqueeze(0)\n",
    "        z       = torch.transpose(z,0,1)\n",
    "\n",
    "        ## decoding\n",
    "        mu_out = self.dec1(z)\n",
    "        log_var_out = self.dec2(z)\n",
    "        reconstruction  = self.reparameterize(mu_out,log_var_out)\n",
    "\n",
    "        #reconstruction = (self.dec2(x))\n",
    "        return mu,log_var,reconstruction"
   ]
  },
  {
   "cell_type": "code",
   "execution_count": 19,
   "id": "subsequent-tongue",
   "metadata": {},
   "outputs": [],
   "source": [
    "model = VAE().to(device)\n",
    "#criterion = nn.BCELoss(reduction='sum')\n",
    "criterion = nn.MSELoss(reduction='mean')\n",
    "optimizer = optim.Adam(model.parameters(),lr=lr)"
   ]
  },
  {
   "cell_type": "code",
   "execution_count": 20,
   "id": "prescription-consciousness",
   "metadata": {},
   "outputs": [],
   "source": [
    "def final_loss(mse_loss, mu, logvar):\n",
    "    #MSE = nb_samples/batch_size*torch.sum(mse_loss/(2*var)+0.5*torch.log(2*np.pi*var))\n",
    "    MSE = mse_loss\n",
    "\n",
    "    KLD = 0.5 * (torch.sum(mu.pow(2) + logvar.exp()- logvar -1  ))\n",
    "    return MSE + KLD"
   ]
  },
  {
   "cell_type": "code",
   "execution_count": 21,
   "id": "helpful-lunch",
   "metadata": {},
   "outputs": [],
   "source": [
    "def train(model,dataloader):\n",
    "    model.train()\n",
    "    running_loss = 0\n",
    "    for i,data in enumerate(dataloader):\n",
    "        data                      = data.to(device)\n",
    "        mu,log_var,reconstruction = model(data)\n",
    "        bce_loss                  = criterion(reconstruction, data)\n",
    "        loss                      = final_loss(bce_loss, mu, log_var)\n",
    "        running_loss             += loss.item()\n",
    "        loss.backward()                      \n",
    "        optimizer.step()\n",
    "    train_loss = running_loss/(len(dataloader.dataset))\n",
    "    return train_loss\n",
    "def test(model,dataloader):\n",
    "    mean_pred = []\n",
    "    var_pred  = []\n",
    "    model.eval()\n",
    "    running_loss = 0.0\n",
    "    with torch.no_grad():\n",
    "        for i,data in enumerate(dataloader):\n",
    "            data                      = data.to(device)\n",
    "            mu,log_var,reconstruction = model(data)\n",
    "            bce_loss                  = criterion(reconstruction, data)\n",
    "            loss                      = final_loss(bce_loss, mu, log_var)\n",
    "            running_loss             += loss.item()\n",
    "            mean_pred                += [torch.mean(mu)]\n",
    "            var_pred                 += [torch.mean(torch.exp(log_var))]\n",
    "    test_loss = running_loss/(len(dataloader.dataset))\n",
    "    mean_pred = torch.stack(mean_pred,dim=0)\n",
    "    var_pred  = torch.stack(var_pred,dim=0)\n",
    "    mean_pred = torch.mean(mean_pred)\n",
    "    var_pred  = torch.mean(var_pred)\n",
    "    return test_loss,mean_pred,var_pred"
   ]
  },
  {
   "cell_type": "code",
   "execution_count": 22,
   "id": "chicken-software",
   "metadata": {
    "tags": []
   },
   "outputs": [
    {
     "name": "stdout",
     "output_type": "stream",
     "text": [
      "Epoch 1 of 40\n",
      "Epoch 2 of 40\n",
      "Epoch 3 of 40\n",
      "Epoch 4 of 40\n",
      "Epoch 5 of 40\n",
      "Epoch 6 of 40\n",
      "Epoch 7 of 40\n",
      "Epoch 8 of 40\n",
      "Epoch 9 of 40\n",
      "Epoch 10 of 40\n",
      "Epoch 11 of 40\n",
      "Epoch 12 of 40\n",
      "Epoch 13 of 40\n",
      "Epoch 14 of 40\n",
      "Epoch 15 of 40\n",
      "Epoch 16 of 40\n",
      "Epoch 17 of 40\n",
      "Epoch 18 of 40\n",
      "Epoch 19 of 40\n",
      "Epoch 20 of 40\n",
      "Epoch 21 of 40\n",
      "Epoch 22 of 40\n",
      "Epoch 23 of 40\n",
      "Epoch 24 of 40\n",
      "Epoch 25 of 40\n",
      "Epoch 26 of 40\n",
      "Epoch 27 of 40\n",
      "Epoch 28 of 40\n",
      "Epoch 29 of 40\n",
      "Epoch 30 of 40\n",
      "Epoch 31 of 40\n",
      "Epoch 32 of 40\n",
      "Epoch 33 of 40\n",
      "Epoch 34 of 40\n",
      "Epoch 35 of 40\n",
      "Epoch 36 of 40\n",
      "Epoch 37 of 40\n",
      "Epoch 38 of 40\n",
      "Epoch 39 of 40\n",
      "Epoch 40 of 40\n",
      "Train Loss: 0.0861\n",
      "Test Loss:  0.0919\n",
      "Mean Pred:  -0.0648\n",
      "Var  Pred:  1.0403\n"
     ]
    }
   ],
   "source": [
    "train_loss = []\n",
    "test_loss = []\n",
    "for epoch in range(epochs):\n",
    "    print(f\"Epoch {epoch+1} of {epochs}\")\n",
    "    train_epoch_loss = train(model,train_loader)\n",
    "    test_epoch_loss,mean_pred,var_pred = test(model,test_loader)\n",
    "    train_loss.append(train_epoch_loss)\n",
    "    test_loss.append(test_epoch_loss)\n",
    "print(f\"Train Loss: {train_epoch_loss:.4f}\")\n",
    "print(f\"Test Loss:  {test_epoch_loss:.4f}\")\n",
    "print(f\"Mean Pred:  {mean_pred:.4f}\")\n",
    "print(f\"Var  Pred:  {var_pred:.4f}\")   "
   ]
  },
  {
   "cell_type": "code",
   "execution_count": 24,
   "id": "connected-thanksgiving",
   "metadata": {},
   "outputs": [
    {
     "data": {
      "image/png": "[encoded data removed]",
      "text/plain": [
       "<Figure size 432x144 with 2 Axes>"
      ]
     },
     "metadata": {
      "needs_background": "light"
     },
     "output_type": "display_data"
    }
   ],
   "source": [
    "flg,(ax1,ax2)=plt.subplots(1,2,figsize=(6, 2))\n",
    "ax1.plot(train_loss)\n",
    "ax1.set(xlabel='x',ylabel='loss',title='training loss')\n",
    "ax2.plot(test_loss)\n",
    "ax2.set(xlabel='x',ylabel='loss',title='test loss')\n",
    "flg.tight_layout()\n",
    "plt.show()"
   ]
  },
  {
   "cell_type": "code",
   "execution_count": 26,
   "id": "essential-fellow",
   "metadata": {},
   "outputs": [
    {
     "name": "stdout",
     "output_type": "stream",
     "text": [
      "tensor([[-0.1819],\n",
      "        [ 0.5978],\n",
      "        [-0.3839],\n",
      "        [ 0.4683],\n",
      "        [-0.3296]])\n",
      "Parameter containing:\n",
      "tensor([[-0.4732],\n",
      "        [ 0.9657]], requires_grad=True)\n",
      "Parameter containing:\n",
      "tensor([ 0.7991, -0.2023], requires_grad=True)\n",
      "tensor([[ 0.8851, -0.3780],\n",
      "        [ 0.5161,  0.3751],\n",
      "        [ 0.9807, -0.5730],\n",
      "        [ 0.5774,  0.2500],\n",
      "        [ 0.9550, -0.5206]], grad_fn=<AddmmBackward>)\n"
     ]
    }
   ],
   "source": [
    "enc1 = nn.Linear(in_features = 1,out_features = 2)\n",
    "print(data)\n",
    "for parameter in enc1.parameters():\n",
    "    print(parameter)\n",
    "print(enc1(data))"
   ]
  },
  {
   "cell_type": "code",
   "execution_count": 173,
   "id": "acquired-junction",
   "metadata": {},
   "outputs": [
    {
     "data": {
      "text/plain": [
       "tensor([[0.0000, 0.0207],\n",
       "        [0.0000, 0.0000],\n",
       "        [0.0000, 0.0000],\n",
       "        ...,\n",
       "        [0.2933, 0.2515],\n",
       "        [0.0000, 0.1351],\n",
       "        [0.0179, 0.1819]], grad_fn=<ReluBackward0>)"
      ]
     },
     "execution_count": 173,
     "metadata": {},
     "output_type": "execute_result"
    }
   ],
   "source": [
    "enc1 = nn.Linear(in_features = 1,out_features = 2)\n",
    "F.relu(enc1(data))"
   ]
  },
  {
   "cell_type": "code",
   "execution_count": 424,
   "id": "constitutional-water",
   "metadata": {},
   "outputs": [],
   "source": [
    "A=list(model.named_parameters())[-1]\n",
    "B=A[1].data.cpu()/fun_A.numpy()"
   ]
  },
  {
   "cell_type": "code",
   "execution_count": 425,
   "id": "invalid-carolina",
   "metadata": {},
   "outputs": [
    {
     "data": {
      "text/plain": [
       "tensor([[  3.9529,  -0.1571,  -0.2421,  ...,   0.1931,  -0.2942,   0.1499],\n",
       "        [-14.5422,   0.5779,   0.8905,  ...,  -0.7103,   1.0824,  -0.5513],\n",
       "        [ 10.4142,  -0.4139,  -0.6377,  ...,   0.5087,  -0.7751,   0.3948],\n",
       "        ...,\n",
       "        [ -5.4541,   0.2167,   0.3340,  ...,  -0.2664,   0.4059,  -0.2068],\n",
       "        [ 15.9982,  -0.6358,  -0.9797,  ...,   0.7814,  -1.1907,   0.6065],\n",
       "        [  2.8036,  -0.1114,  -0.1717,  ...,   0.1369,  -0.2087,   0.1063]])"
      ]
     },
     "execution_count": 425,
     "metadata": {},
     "output_type": "execute_result"
    }
   ],
   "source": [
    "B"
   ]
  },
  {
   "cell_type": "code",
   "execution_count": null,
   "id": "engaged-moscow",
   "metadata": {},
   "outputs": [],
   "source": []
  }
 ],
 "metadata": {
  "kernelspec": {
   "display_name": "achint-env2",
   "language": "python",
   "name": "achint-env2"
  },
  "language_info": {
   "codemirror_mode": {
    "name": "ipython",
    "version": 3
   },
   "file_extension": ".py",
   "mimetype": "text/x-python",
   "name": "python",
   "nbconvert_exporter": "python",
   "pygments_lexer": "ipython3",
   "version": "3.8.5"
  }
 },
 "nbformat": 4,
 "nbformat_minor": 5
}
