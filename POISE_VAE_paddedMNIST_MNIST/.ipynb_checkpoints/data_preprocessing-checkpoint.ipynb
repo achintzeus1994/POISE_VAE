{
 "cells": [
  {
   "cell_type": "code",
   "execution_count": 1,
   "id": "charged-alert",
   "metadata": {},
   "outputs": [],
   "source": [
    "import torch\n",
    "import scipy.io as sio\n",
    "import random\n",
    "import numpy as np\n",
    "from torch.utils.data import DataLoader"
   ]
  },
  {
   "cell_type": "code",
   "execution_count": 2,
   "id": "ceramic-disorder",
   "metadata": {},
   "outputs": [],
   "source": [
    "class JointDataset(torch.utils.data.Dataset):\n",
    "    def __init__(self, mnist_pt_path_1, mnist_pt_path_2):\n",
    "\n",
    "        self.mnist_pt_path_1 = mnist_pt_path_1\n",
    "        self.mnist_pt_path_2 = mnist_pt_path_2\n",
    "        # Load the pt for MNIST \n",
    "        self.mnist_data_1, self.mnist_targets_1 = torch.load(self.mnist_pt_path_1)\n",
    "        # remove invalid targets\n",
    "        self.mnist_data_1    =self.mnist_data_1[self.mnist_targets_1%2==0,:,:]\n",
    "        self.mnist_targets_1 = self.mnist_targets_1[self.mnist_targets_1%2==0]\n",
    "        # Load the pt for MNIST \n",
    "        self.mnist_data_2, self.mnist_targets_2 = torch.load(self.mnist_pt_path_2)\n",
    "        self.mnist_target_idx_mapping = self.process_mnist_labels()\n",
    "\n",
    "    def process_mnist_labels(self):\n",
    "#        numbers_dict = {0: [], 1: [], 2: [], 3:[], 4:[], 5:[], 6:[], 7: [], 8:[], 9:[]}\n",
    "        numbers_dict = {0: [], 2: [], 4:[],  6:[], 8:[]}        \n",
    "        for i in range(len(self.mnist_targets_2)):\n",
    "            mnist_target = self.mnist_targets_2[i].item()\n",
    "            if mnist_target % 2 != 0:\n",
    "                numbers_dict[(mnist_target-1)%10].append(i)\n",
    "        return numbers_dict\n",
    "        \n",
    "        \n",
    "    def __len__(self):\n",
    "        return len(self.mnist_data_1)\n",
    "        \n",
    "    def __getitem__(self, index: int):\n",
    "        \"\"\"\n",
    "        Args:\n",
    "            index (int): Index\n",
    "        Modality 1: even digits\n",
    "        Modality 2: odd  digits\n",
    "        \"\"\"\n",
    "#         mnist_img_1, mnist_target_1 = self.mnist_data_1[self.even_index], (self.mnist_targets_1[self.even_index])\n",
    "        mnist_img_1, mnist_target_1 = self.mnist_data_1[index], int(self.mnist_targets_1[index])\n",
    "        indices_list = self.mnist_target_idx_mapping[(mnist_target_1)]\n",
    "        # Randomly pick an index from the indices list\n",
    "        idx = random.choice(indices_list)\n",
    "\n",
    "        mnist_img_2    = self.mnist_data_2[idx]\n",
    "        mnist_target_2 = int(self.mnist_targets_2[idx])\n",
    "        return mnist_img_1/255, mnist_img_2/255, mnist_target_1, mnist_target_2\n"
   ]
  },
  {
   "cell_type": "code",
   "execution_count": 52,
   "id": "artificial-nevada",
   "metadata": {
    "tags": []
   },
   "outputs": [],
   "source": [
    "# ## Importing MNIST and MNIST datasets\n",
    "# MNIST_TRAINING_PATH = \"/home/achint/Practice_code/VAE/MNIST/MNIST/processed/training.pt\"\n",
    "# MNIST_TEST_PATH     = \"/home/achint/Practice_code/VAE/MNIST/MNIST/processed/test.pt\"\n",
    "\n",
    "# joint_dataset_train = JointDataset(mnist_pt_path_1 = MNIST_TRAINING_PATH,\n",
    "#                                                       mnist_pt_path_2 = MNIST_TRAINING_PATH)\n",
    "# # joint_dataset_test  = JointDataset(mnist_pt_path_1 = MNIST_TEST_PATH,\n",
    "# #                                                      mnist_pt_path_2 = MNIST_TEST_PATH)\n",
    "# batch_size=5\n",
    "# joint_dataset_train_loader = DataLoader(\n",
    "#     joint_dataset_train,\n",
    "#     batch_size=batch_size,\n",
    "#     shuffle=True,\n",
    "#     drop_last=True\n",
    "# )\n",
    "# # joint_dataset_test_loader = DataLoader(\n",
    "# #     joint_dataset_test,\n",
    "# #     batch_size=batch_size,\n",
    "# #     shuffle=False,\n",
    "# #     drop_last=True\n",
    "# # )\n",
    "# for i,data in enumerate(joint_dataset_train_loader):\n",
    "#     data_target1=data[2] \n",
    "#     data_target2=data[3] "
   ]
  },
  {
   "cell_type": "code",
   "execution_count": 53,
   "id": "answering-shift",
   "metadata": {},
   "outputs": [
    {
     "data": {
      "text/plain": [
       "tensor([1, 1, 1, 9, 7])"
      ]
     },
     "execution_count": 53,
     "metadata": {},
     "output_type": "execute_result"
    }
   ],
   "source": [
    "#data_target2"
   ]
  },
  {
   "cell_type": "code",
   "execution_count": 54,
   "id": "conventional-flesh",
   "metadata": {},
   "outputs": [
    {
     "data": {
      "text/plain": [
       "tensor([0, 0, 0, 8, 6])"
      ]
     },
     "execution_count": 54,
     "metadata": {},
     "output_type": "execute_result"
    }
   ],
   "source": [
    "#data_target1"
   ]
  }
 ],
 "metadata": {
  "kernelspec": {
   "display_name": "achint-env2",
   "language": "python",
   "name": "achint-env2"
  },
  "language_info": {
   "codemirror_mode": {
    "name": "ipython",
    "version": 3
   },
   "file_extension": ".py",
   "mimetype": "text/x-python",
   "name": "python",
   "nbconvert_exporter": "python",
   "pygments_lexer": "ipython3",
   "version": "3.8.10"
  }
 },
 "nbformat": 4,
 "nbformat_minor": 5
}
