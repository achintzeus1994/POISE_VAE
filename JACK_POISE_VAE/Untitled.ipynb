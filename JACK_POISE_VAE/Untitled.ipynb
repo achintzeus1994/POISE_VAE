{
 "cells": [
  {
   "cell_type": "code",
   "execution_count": 1,
   "id": "united-investing",
   "metadata": {},
   "outputs": [],
   "source": [
    "from itertools import repeat\n",
    "from joblib import Parallel, delayed\n",
    "import numpy as np\n",
    "import os\n",
    "from ava.preprocessing.preprocess import process_sylls, \\\n",
    "\ttune_syll_preprocessing_params\n",
    "from ava.preprocessing.utils import get_spec\n",
    "from ava.segmenting.segment import tune_segmenting_params\n",
    "from ava.segmenting.segment import segment\n",
    "from ava.segmenting.amplitude_segmentation import get_onsets_offsets\n",
    "from ava.data.data_container import DataContainer\n",
    "from ava.models.vae_dataset import get_syllable_partition\n",
    "from ava.segmenting.refine_segments import refine_segments_pre_vae\n",
    "import matplotlib.pyplot as plt\n",
    "import shutil"
   ]
  },
  {
   "cell_type": "code",
   "execution_count": 2,
   "id": "uniform-paste",
   "metadata": {},
   "outputs": [],
   "source": [
    "X_SHAPE = (128,128)\n",
    "\"\"\"Processed spectrogram shape: ``[freq_bins, time_bins]``\"\"\"\n",
    "X_DIM = np.prod(X_SHAPE)"
   ]
  },
  {
   "cell_type": "code",
   "execution_count": 3,
   "id": "written-hospital",
   "metadata": {},
   "outputs": [
    {
     "name": "stdout",
     "output_type": "stream",
     "text": [
      "Tune segmenting parameters\n",
      "---------------------------\n"
     ]
    },
    {
     "name": "stdin",
     "output_type": "stream",
     "text": [
      "Set value for min_freq: [30000.0]  \n",
      "Set value for max_freq: [110000.0]  \n",
      "Set value for nperseg: [1024]  \n",
      "Set value for noverlap: [512]  \n",
      "Set value for spec_min_val: [2.0]  \n",
      "Set value for spec_max_val: [6.0]  \n",
      "Set value for fs: [303030]  \n",
      "Set value for th_1: [0.33]  \n",
      "Set value for th_2: [0.37]  \n",
      "Set value for th_3: [0.374]  \n",
      "Set value for max_dur: [0.2]  \n",
      "Set value for min_dur: [0.01]  \n",
      "Set value for smoothing_timescale: [0.007]  \n",
      "Set value for temperature: [0.5]  \n",
      "Continue? [y] or [s]top tuning or [r]etune params:  s\n"
     ]
    }
   ],
   "source": [
    "#########################################\n",
    "# 0) Define directories and parameters. #\n",
    "#########################################\n",
    "params = {\n",
    "\t'segment': {\n",
    "\t\t'min_freq': 30e3, # minimum frequency\n",
    "\t\t'max_freq': 110e3, # maximum frequency         # originally 110e3\n",
    "\t\t'nperseg': 1024, # FFT\n",
    "\t\t'noverlap': 512, # FFT\n",
    "\t\t'spec_min_val': 2.0, # minimum log-spectrogram value\n",
    "\t\t'spec_max_val': 6.0, # maximum log-spectrogram value\n",
    "\t\t'fs': 303030, # audio samplerate               #originally 250000\n",
    "\t\t'th_1':0.33, # segmenting threshold 1           #originally 0.1\n",
    "\t\t'th_2':0.37,# segmenting threshold 2           #originally 0.2\n",
    "\t\t'th_3':0.374, # segmenting threshold 2           #originally 0.3\n",
    "\t\t'max_dur': 0.2, # maximum syllable duration   #originally 0.2\n",
    "\t\t'min_dur':0.01, # minimum syllable duration    #originally 0.03\n",
    "\t\t'smoothing_timescale': 0.007, # timescale for smoothing amplitude trace\n",
    "\t\t'softmax': True, # puts amplitude values in [0,1]\n",
    "\t\t'temperature': 0.5, # temperature parameter for softmax\n",
    "\t\t'algorithm': get_onsets_offsets, # segmentation algorithm\n",
    "\t},\n",
    "\t'preprocess': {\n",
    "\t\t'get_spec': get_spec,\n",
    "\t\t'max_dur': 0.2, # maximum syllable duration    #originally 0.2\n",
    "\t\t'min_freq': 30e3, # minimum frequency\n",
    "\t\t'max_freq': 110e3, # maximum frequency         # originally 110e3\n",
    "\t\t'num_freq_bins': X_SHAPE[0], # hard-coded\n",
    "\t\t'num_time_bins': X_SHAPE[1], # hard-coded\n",
    "\t\t'nperseg': 1024, # FFT\n",
    "\t\t'noverlap': 512, # FFT\n",
    "\t\t'spec_min_val': 2.0, # minimum log-spectrogram value\n",
    "\t\t'spec_max_val': 6.0, # maximum log-spectrogram value\n",
    "\t\t'fs': 303030, # audio samplerate             #originally 250000 So we are samping every 3x10^-6 seconds\n",
    "\t\t'mel': False, # frequency spacing, mel or linear\n",
    "\t\t'time_stretch': True, # stretch short syllables?\n",
    "\t\t'within_syll_normalize': False, # normalize spectrogram values on a\n",
    "\t\t\t\t\t\t\t\t\t\t# spectrogram-by-spectrogram basis\n",
    "\t\t'max_num_syllables': None, # maximum number of syllables per directory\n",
    "\t\t'sylls_per_file': 20, # syllable per file\n",
    "\t\t'real_preprocess_params': ('min_freq', 'max_freq', 'spec_min_val', \\\n",
    "\t\t\t\t'spec_max_val', 'max_dur'), # tunable parameters\n",
    "\t\t'int_preprocess_params': ('nperseg','noverlap'), # tunable parameters\n",
    "\t\t'binary_preprocess_params': ('time_stretch', 'mel', \\\n",
    "\t\t\t\t'within_syll_normalize'), # tunable parameters\n",
    "\t},\n",
    "}\n",
    "\n",
    "#root = '/Users/achintkumar/autoencoded-vocal-analysis/My_codes/Sample_C57_USV_Files'\n",
    "#root = '/hdd/achint_files/Sample_C57_USV_Files'\n",
    "\n",
    "#audio_dirs = [os.path.join(root,'audio')] \n",
    "root = '/hdd/achint_files/achint_mousedata/Tom Data'\n",
    "dataset_both      = ['Group1','Group2']\n",
    "audio_dirs_group1 = [os.path.join(root,'Group1')]\n",
    "seg_dirs_group1   = [os.path.join(root,'Group1','segs')]\n",
    "proj_dirs_group1  = [os.path.join(root,'Group1','projections')]\n",
    "spec_dirs_group1  = [os.path.join(root,'Group1','specs')]\n",
    "\n",
    "audio_dirs_group2 = [os.path.join(root,'Group2')]\n",
    "seg_dirs_group2   = [os.path.join(root,'Group2','segs')]\n",
    "proj_dirs_group2  = [os.path.join(root,'Group2','projections')]\n",
    "spec_dirs_group2  = [os.path.join(root, 'Group2','specs')]\n",
    "\n",
    "audio_dirs_both   = [os.path.join(root,group) for group in dataset_both ]\n",
    "seg_dirs_both     = [os.path.join(root,group,'segs') for group in dataset_both]\n",
    "proj_dirs_both    = [os.path.join(root,group,'projections') for group in dataset_both]\n",
    "spec_dirs_both    = [os.path.join(root,group,'specs') for group in dataset_both]\n",
    "\n",
    "model_filename = os.path.join(root,'joint_template', 'checkpoint_150.tar')  # Originally xxx=150\n",
    "plots_dir = os.path.join(root,'plots')\n",
    "dc_1    = DataContainer(projection_dirs=proj_dirs_group1, spec_dirs=spec_dirs_group1, \\\n",
    "\t\tplots_dir=plots_dir, model_filename=model_filename)\n",
    "dc_2    = DataContainer(projection_dirs=proj_dirs_group2, spec_dirs=spec_dirs_group2, \\\n",
    "\t\tplots_dir=plots_dir, model_filename=model_filename)\n",
    "dc_both = DataContainer(projection_dirs=proj_dirs_both, spec_dirs=spec_dirs_both, \\\n",
    "\t\tplots_dir=plots_dir, model_filename=model_filename)\n",
    "##################################\n",
    "# 1) Tune segmenting parameters. #\n",
    "##################################\n",
    "params['segment'] = tune_segmenting_params(audio_dirs_both, params['segment'])\n",
    "\n",
    "# Here fs = 303030\n",
    "# spec_min_val = 2\n",
    "# spec_max_val = 7\n",
    "# max_freq = fs/2=151515"
   ]
  },
  {
   "cell_type": "code",
   "execution_count": 4,
   "id": "korean-national",
   "metadata": {},
   "outputs": [
    {
     "name": "stdout",
     "output_type": "stream",
     "text": [
      "Reaching here\n",
      "('/hdd/achint_files/achint_mousedata/Tom Data/Group1', '/hdd/achint_files/achint_mousedata/Tom Data/Group1/segs', {'min_freq': 30000.0, 'max_freq': 110000.0, 'nperseg': 1024, 'noverlap': 512, 'spec_min_val': 2.0, 'spec_max_val': 6.0, 'fs': 303030, 'th_1': 0.33, 'th_2': 0.37, 'th_3': 0.374, 'max_dur': 0.2, 'min_dur': 0.01, 'smoothing_timescale': 0.007, 'softmax': True, 'temperature': 0.5, 'algorithm': <function get_onsets_offsets at 0x7f16be6cc310>})\n",
      "Segmenting audio in /hdd/achint_files/achint_mousedata/Tom Data/Group1\n",
      "\tFound 6112 segments in /hdd/achint_files/achint_mousedata/Tom Data/Group1\n",
      "Reaching here\n",
      "('/hdd/achint_files/achint_mousedata/Tom Data/Group2', '/hdd/achint_files/achint_mousedata/Tom Data/Group2/segs', {'min_freq': 30000.0, 'max_freq': 110000.0, 'nperseg': 1024, 'noverlap': 512, 'spec_min_val': 2.0, 'spec_max_val': 6.0, 'fs': 303030, 'th_1': 0.33, 'th_2': 0.37, 'th_3': 0.374, 'max_dur': 0.2, 'min_dur': 0.01, 'smoothing_timescale': 0.007, 'softmax': True, 'temperature': 0.5, 'algorithm': <function get_onsets_offsets at 0x7f16be6cc310>})\n",
      "Segmenting audio in /hdd/achint_files/achint_mousedata/Tom Data/Group2\n",
      "\tFound 3331 segments in /hdd/achint_files/achint_mousedata/Tom Data/Group2\n"
     ]
    }
   ],
   "source": [
    "###############\n",
    "# 2) Segment. #\n",
    "###############\n",
    "n_jobs = min(len(audio_dirs_both), os.cpu_count()-1)\n",
    "gen = zip(audio_dirs_both, seg_dirs_both, repeat(params['segment']))\n",
    "for data in gen:\n",
    "    print(\"Reaching here\")\n",
    "    print(data)\n",
    "    segment(*data)\n",
    "# Parallel(n_jobs=n_jobs)(delayed(segment)(*args) for args in gen)"
   ]
  },
  {
   "cell_type": "code",
   "execution_count": null,
   "id": "informational-material",
   "metadata": {},
   "outputs": [
    {
     "name": "stdout",
     "output_type": "stream",
     "text": [
      "Tune preprocessing parameters:\n"
     ]
    }
   ],
   "source": [
    "#####################################\n",
    "# 3) Tune preprocessing parameters. #\n",
    "#####################################\n",
    "preprocess_params = tune_syll_preprocessing_params(audio_dirs_both, seg_dirs_both, \\\n",
    "\t\tparams['preprocess'])\n",
    "params['preprocess'] = preprocess_params"
   ]
  },
  {
   "cell_type": "code",
   "execution_count": null,
   "id": "chicken-spring",
   "metadata": {},
   "outputs": [],
   "source": [
    "##################\n",
    "# 4) Preprocess. #\n",
    "##################\n",
    "n_jobs = os.cpu_count()-1\n",
    "gen = zip(audio_dirs_both, seg_dirs_both, spec_dirs_both, repeat(params['preprocess']))\n",
    "Parallel(n_jobs=n_jobs)(delayed(process_sylls)(*args) for args in gen)"
   ]
  },
  {
   "cell_type": "code",
   "execution_count": null,
   "id": "floating-nudist",
   "metadata": {},
   "outputs": [],
   "source": []
  }
 ],
 "metadata": {
  "kernelspec": {
   "display_name": "achint-env2",
   "language": "python",
   "name": "achint-env2"
  },
  "language_info": {
   "codemirror_mode": {
    "name": "ipython",
    "version": 3
   },
   "file_extension": ".py",
   "mimetype": "text/x-python",
   "name": "python",
   "nbconvert_exporter": "python",
   "pygments_lexer": "ipython3",
   "version": "3.8.10"
  }
 },
 "nbformat": 4,
 "nbformat_minor": 5
}
