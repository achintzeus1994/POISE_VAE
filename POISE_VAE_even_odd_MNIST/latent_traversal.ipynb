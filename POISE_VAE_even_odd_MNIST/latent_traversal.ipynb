{
 "cells": [
  {
   "cell_type": "code",
   "execution_count": 1,
   "id": "concerned-warner",
   "metadata": {},
   "outputs": [],
   "source": [
    "import torch\n",
    "import torchvision\n",
    "import torch.optim as optim\n",
    "import argparse\n",
    "import matplotlib\n",
    "import torch.nn as nn\n",
    "import import_ipynb\n",
    "import gibbs_sampler_poise\n"
   ]
  },
  {
   "cell_type": "code",
   "execution_count": null,
   "id": "aware-above",
   "metadata": {},
   "outputs": [],
   "source": [
    "device = torch.device('cuda' if torch.cuda.is_available() else 'cpu')\n",
    "class latent_traversals():\n",
    "    def __init__(self,latent_dim1, latent_dim2, batch_size):\n",
    "        self.latent_dim1 = latent_dim1\n",
    "        self.latent_dim2 = latent_dim2\n",
    "        self.batch_size = batch_size\n",
    "        self.gibbs                   = gibbs_sampler_poise.gibbs_sampler(self.latent_dim1, self.latent_dim2, self.batch_size) \n",
    "    def traversals(self,z1,z2,g11,g22,mu1,var1,mu2,var2,n_iterations):\n",
    "        # j goes from -5 to 5. it is multiplier to std\n",
    "        # get mean\n",
    "        # get std\n",
    "        # for loop from i=0 to len-1:\n",
    "        # z1[i]=mean[i]-j*std[i]\n",
    "        # Gibbs sampling\n",
    "        z1_gibbs_posterior,z2_gibbs_posterior= self.gibbs.gibbs_sample(z1,\n",
    "                                                                      z2,\n",
    "                                                                      g11,\n",
    "                                                                      g22,\n",
    "                                                                      mu1,\n",
    "                                                                      var1,\n",
    "                                                                      mu2,\n",
    "                                                                      var2,\n",
    "                                                                      n_iterations=5)\n",
    "        return z1_gibbs_posterior,z2_gibbs_posterior\n",
    "        \n"
   ]
  }
 ],
 "metadata": {
  "kernelspec": {
   "display_name": "achint-env2",
   "language": "python",
   "name": "achint-env2"
  },
  "language_info": {
   "codemirror_mode": {
    "name": "ipython",
    "version": 3
   },
   "file_extension": ".py",
   "mimetype": "text/x-python",
   "name": "python",
   "nbconvert_exporter": "python",
   "pygments_lexer": "ipython3",
   "version": "3.8.10"
  }
 },
 "nbformat": 4,
 "nbformat_minor": 5
}
