{
 "cells": [
  {
   "cell_type": "code",
   "execution_count": 57,
   "id": "surrounded-serve",
   "metadata": {},
   "outputs": [],
   "source": [
    "import torch\n",
    "import scipy.io as sio\n",
    "import random\n",
    "import numpy as np\n",
    "from torch.utils.data import DataLoader\n"
   ]
  },
  {
   "cell_type": "code",
   "execution_count": 58,
   "id": "hollow-consolidation",
   "metadata": {},
   "outputs": [],
   "source": [
    "class JointDataset(torch.utils.data.Dataset):\n",
    "    def __init__(self, mnist_pt_path_1, mnist_pt_path_2):\n",
    "\n",
    "        self.mnist_pt_path_1 = mnist_pt_path_1\n",
    "        self.mnist_pt_path_2 = mnist_pt_path_2\n",
    "        # Load the pt for MNIST \n",
    "        self.mnist_data_1, self.mnist_targets_1 = torch.load(self.mnist_pt_path_1)\n",
    "        \n",
    "        # Load the pt for MNIST \n",
    "\n",
    "        self.mnist_data_2, self.mnist_targets_2 = torch.load(self.mnist_pt_path_2)\n",
    "        self.mnist_target_idx_mapping = self.process_mnist_labels()\n",
    "\n",
    "    def process_mnist_labels(self):\n",
    "        numbers_dict = {0: [], 1: [], 2: [], 3:[], 4:[], 5:[], 6:[], 7: [], 8:[], 9:[]}\n",
    "        for i in range(len(self.mnist_targets_2)):\n",
    "            mnist_target = self.mnist_targets_2[i].item()\n",
    "            numbers_dict[mnist_target].append(i)\n",
    "        return numbers_dict\n",
    "        \n",
    "        \n",
    "    def __len__(self):\n",
    "        return len(self.mnist_data_1)\n",
    "        \n",
    "    def __getitem__(self, index: int):\n",
    "        \"\"\"\n",
    "        Args:\n",
    "            index (int): Index\n",
    "        \"\"\"\n",
    "        mnist_img_1, mnist_target_1 = self.mnist_data_1[index], int(self.mnist_targets_1[index])\n",
    "        indices_list = self.mnist_target_idx_mapping[(mnist_target_1+1)%10]\n",
    "        # Randomly pick an index from the indices list\n",
    "        idx = random.choice(indices_list)\n",
    "        mnist_img_2    = self.mnist_data_2[idx]\n",
    "        mnist_target_2 = int(self.mnist_targets_2[idx])\n",
    "        \n",
    "\n",
    "        \n",
    "        return mnist_img_1/255, mnist_img_2/255, mnist_target_1, mnist_target_2\n"
   ]
  },
  {
   "cell_type": "code",
   "execution_count": 59,
   "id": "passing-shopping",
   "metadata": {},
   "outputs": [],
   "source": [
    "# ## Importing MNIST and MNIST datasets\n",
    "# MNIST_TRAINING_PATH = \"/home/achint/Practice_code/VAE/MNIST/MNIST/processed/training.pt\"\n",
    "# MNIST_TEST_PATH     = \"/home/achint/Practice_code/VAE/MNIST/MNIST/processed/test.pt\"\n",
    "\n",
    "# joint_dataset_train = JointDataset(mnist_pt_path_1 = MNIST_TRAINING_PATH,\n",
    "#                                                       mnist_pt_path_2 = MNIST_TRAINING_PATH)\n",
    "# joint_dataset_test  = JointDataset(mnist_pt_path_1 = MNIST_TEST_PATH,\n",
    "#                                                      mnist_pt_path_2 = MNIST_TEST_PATH)\n",
    "\n",
    "# joint_dataset_train_loader = DataLoader(\n",
    "#     joint_dataset_train,\n",
    "#     batch_size=batch_size,\n",
    "#     shuffle=True,\n",
    "#     drop_last=True\n",
    "# )\n",
    "# joint_dataset_test_loader = DataLoader(\n",
    "#     joint_dataset_test,\n",
    "#     batch_size=batch_size,\n",
    "#     shuffle=False,\n",
    "#     drop_last=True\n",
    "# )\n",
    "# for i,data in enumerate(joint_dataset_train_loader):\n",
    "#     data_target1=data[2] \n",
    "#     data_target2=data[3] "
   ]
  },
  {
   "cell_type": "code",
   "execution_count": 60,
   "id": "seven-captain",
   "metadata": {},
   "outputs": [
    {
     "data": {
      "text/plain": [
       "tensor([3, 2, 7, 7, 6, 9, 3, 1, 5, 7, 6, 9, 1, 3, 0, 2, 6, 2, 9, 4, 0, 8, 9, 3,\n",
       "        2, 9, 6, 2, 9, 5, 3, 2, 3, 3, 0, 5, 8, 1, 3, 5, 4, 1, 8, 7, 2, 3, 0, 7,\n",
       "        6, 3, 7, 3, 3, 7, 5, 9, 9, 5, 4, 6, 0, 5, 7, 6, 6, 0, 8, 1, 6, 0, 0, 0,\n",
       "        3, 7, 3, 9, 1, 8, 3, 1, 1, 8, 4, 0, 4, 6, 1, 4, 9, 3, 8, 0, 0, 7, 9, 2,\n",
       "        5, 4, 6, 6, 2, 2, 5, 4, 0, 6, 9, 7, 2, 9, 9, 3, 1, 4, 2, 4, 9, 4, 4, 0,\n",
       "        5, 0, 7, 0, 5, 6, 6, 9])"
      ]
     },
     "execution_count": 60,
     "metadata": {},
     "output_type": "execute_result"
    }
   ],
   "source": [
    "# data_target1"
   ]
  },
  {
   "cell_type": "code",
   "execution_count": 62,
   "id": "oriented-journalist",
   "metadata": {},
   "outputs": [
    {
     "data": {
      "text/plain": [
       "tensor([4, 3, 8, 8, 7, 0, 4, 2, 6, 8, 7, 0, 2, 4, 1, 3, 7, 3, 0, 5, 1, 9, 0, 4,\n",
       "        3, 0, 7, 3, 0, 6, 4, 3, 4, 4, 1, 6, 9, 2, 4, 6, 5, 2, 9, 8, 3, 4, 1, 8,\n",
       "        7, 4, 8, 4, 4, 8, 6, 0, 0, 6, 5, 7, 1, 6, 8, 7, 7, 1, 9, 2, 7, 1, 1, 1,\n",
       "        4, 8, 4, 0, 2, 9, 4, 2, 2, 9, 5, 1, 5, 7, 2, 5, 0, 4, 9, 1, 1, 8, 0, 3,\n",
       "        6, 5, 7, 7, 3, 3, 6, 5, 1, 7, 0, 8, 3, 0, 0, 4, 2, 5, 3, 5, 0, 5, 5, 1,\n",
       "        6, 1, 8, 1, 6, 7, 7, 0])"
      ]
     },
     "execution_count": 62,
     "metadata": {},
     "output_type": "execute_result"
    }
   ],
   "source": [
    "# data_target2"
   ]
  },
  {
   "cell_type": "code",
   "execution_count": null,
   "id": "placed-intensity",
   "metadata": {},
   "outputs": [],
   "source": []
  }
 ],
 "metadata": {
  "kernelspec": {
   "display_name": "achint-env2",
   "language": "python",
   "name": "achint-env2"
  },
  "language_info": {
   "codemirror_mode": {
    "name": "ipython",
    "version": 3
   },
   "file_extension": ".py",
   "mimetype": "text/x-python",
   "name": "python",
   "nbconvert_exporter": "python",
   "pygments_lexer": "ipython3",
   "version": "3.8.10"
  }
 },
 "nbformat": 4,
 "nbformat_minor": 5
}
