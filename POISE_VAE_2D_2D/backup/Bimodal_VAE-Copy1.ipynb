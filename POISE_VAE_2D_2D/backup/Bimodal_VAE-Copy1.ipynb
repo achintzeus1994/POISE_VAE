{
 "cells": [
  {
   "cell_type": "code",
   "execution_count": 26,
   "id": "medical-funds",
   "metadata": {},
   "outputs": [],
   "source": [
    "import torch\n",
    "import numpy as np\n",
    "from torch.utils.data import DataLoader\n",
    "import matplotlib\n",
    "import matplotlib.pyplot as plt\n",
    "import import_ipynb\n",
    "import gibbs_sampler_poise\n",
    "import kl_divergence_calculator\n",
    "import torch.nn as nn\n",
    "import torch.optim as optim\n",
    "from torch.nn import functional as F  #for the activation function"
   ]
  },
  {
   "cell_type": "markdown",
   "id": "immune-bronze",
   "metadata": {},
   "source": [
    "**In this code, I will create two datasets of one dimensional gaussian. Pass it through POISE-VAE setup and see \n",
    "if I can learn true latent space**"
   ]
  },
  {
   "cell_type": "code",
   "execution_count": 2,
   "id": "ranging-excess",
   "metadata": {},
   "outputs": [],
   "source": [
    "def sample(mu, var, nb_samples):\n",
    "    \"\"\"\n",
    "    :param mu: torch.Tensor (features)\n",
    "    :param var: torch.Tensor (features) (note: zero covariance)\n",
    "    :return: torch.Tensor (nb_samples, features)\n",
    "    \"\"\"\n",
    "    out = []\n",
    "    for i in range(nb_samples):\n",
    "        out += [torch.normal(mu, var.sqrt())]\n",
    "    return torch.stack(out, dim=0)"
   ]
  },
  {
   "cell_type": "markdown",
   "id": "legitimate-census",
   "metadata": {},
   "source": [
    "**Synthetic dataset**\n",
    "The mean and variance of the two datasets is given by\n",
    "<span class=\"math display\">\n",
    "    \\begin{aligned}\n",
    "    \\mu_1&=1\\\\\n",
    "    \\sigma_1 &=2.1\n",
    "    \\end{aligned}\n",
    "</span>\n",
    "<span class=\"math display\">\n",
    "    \\begin{aligned}\n",
    "    \\mu_2&=2\\\\\n",
    "    \\sigma_2 &=3.1\n",
    "    \\end{aligned}\n",
    "</span>\n"
   ]
  },
  {
   "cell_type": "code",
   "execution_count": 3,
   "id": "canadian-floating",
   "metadata": {},
   "outputs": [],
   "source": [
    "## Creating synthetic datasets\n",
    "nb_samples=5000\n",
    "mu1  =torch.tensor(1.)   # . converts long to float\n",
    "var1 =torch.tensor(2.1)\n",
    "mu2  =torch.tensor(2.)   # . converts long to float\n",
    "var2 =torch.tensor(3.1)\n",
    "\n",
    "inp_data1=sample(mu1,var1,nb_samples)\n",
    "inp_data1=inp_data1.unsqueeze(0)\n",
    "inp_data1=torch.transpose(inp_data1,0,1)\n",
    "\n",
    "inp_data2=sample(mu2,var2,nb_samples)\n",
    "inp_data2=inp_data2.unsqueeze(0)\n",
    "inp_data2=torch.transpose(inp_data2,0,1)"
   ]
  },
  {
   "cell_type": "code",
   "execution_count": 4,
   "id": "healthy-colony",
   "metadata": {},
   "outputs": [
    {
     "data": {
      "image/png": "[encoded data removed]",
      "text/plain": [
       "<Figure size 432x288 with 2 Axes>"
      ]
     },
     "metadata": {
      "needs_background": "light"
     },
     "output_type": "display_data"
    },
    {
     "name": "stdout",
     "output_type": "stream",
     "text": [
      "mu1 tensor(1.)\n",
      "var1 tensor(2.1000)\n",
      "mu2 tensor(2.)\n",
      "var2 tensor(3.1000)\n"
     ]
    }
   ],
   "source": [
    "## for data visualization\n",
    "data_vis1=inp_data1.numpy()\n",
    "data_vis2=inp_data2.numpy()\n",
    "\n",
    "fig, ax = plt.subplots(2,1)\n",
    "\n",
    "#flg,(ax1,ax2)=plt.subplots(1,2,figsize=(6, 2))\n",
    "#Panel a\n",
    "n1,bins1,patches1=ax[0].hist(data_vis1,'auto',density=1)\n",
    "y1=1/(np.sqrt(2*np.pi*var1))*np.exp(-0.5*(bins1-mu1.numpy())**2/var1)\n",
    "ax[0].plot(bins1,y1,'--')\n",
    "ax[0].set(xlabel='x',ylabel='p(x)')\n",
    "#Panel b\n",
    "n2,bins2,patches2=ax[1].hist(data_vis2,'auto',density=1)\n",
    "y2=1/(np.sqrt(2*np.pi*var2))*np.exp(-0.5*(bins2-mu2.numpy())**2/var2)\n",
    "ax[1].plot(bins2,y2,'--')\n",
    "ax[1].set(xlabel='x',ylabel='p(x)')\n",
    "\n",
    "plt.show()\n",
    "print(\"mu1\",mu1)\n",
    "print(\"var1\",var1)\n",
    "print(\"mu2\",mu2)\n",
    "print(\"var2\",var2)"
   ]
  },
  {
   "cell_type": "code",
   "execution_count": 5,
   "id": "foster-royal",
   "metadata": {},
   "outputs": [
    {
     "data": {
      "image/png": "[encoded data removed]",
      "text/plain": [
       "<Figure size 432x288 with 1 Axes>"
      ]
     },
     "metadata": {
      "needs_background": "light"
     },
     "output_type": "display_data"
    }
   ],
   "source": [
    "## Transforming data to a higher dimension\n",
    "\"\"\"\n",
    "inp_data= samplesx1\n",
    "fun_A   = 1xdim_exp\n",
    "data    = samplesxdim_exp   (data = inp_dataxfun_A)\n",
    "\"\"\"\n",
    "dim_exp = 2 \n",
    "fun_A1   = torch.normal(0, 1, size=(1, dim_exp))  ## random tensor of size dim_expxdata_samples mean=0, var=1, s\n",
    "fun_A2   = torch.normal(0, 1, size=(1, dim_exp))  ## random tensor of size dim_expxdata_samples mean=0, var=1, s\n",
    "data1    = inp_data1*fun_A1\n",
    "data2    = inp_data2*fun_A2\n",
    "x1_cord = data1[:,0]\n",
    "y1_cord = data1[:,1]\n",
    "x2_cord = data2[:,0]\n",
    "y2_cord = data2[:,1]\n",
    "plt.plot(x1_cord,y1_cord, 'o', color='black')\n",
    "plt.plot(x2_cord,y2_cord, 'o', color='red')\n",
    "plt.show()"
   ]
  },
  {
   "cell_type": "code",
   "execution_count": 15,
   "id": "frank-designer",
   "metadata": {},
   "outputs": [],
   "source": [
    "## Hyperparameters\n",
    "epochs     = 10\n",
    "batch_size = 128\n",
    "lr         = 1e-4\n",
    "device     = torch.device('cuda' if torch.cuda.is_available() else 'cpu')"
   ]
  },
  {
   "cell_type": "code",
   "execution_count": 16,
   "id": "crucial-action",
   "metadata": {},
   "outputs": [],
   "source": [
    "## Creating synthetic dataloader\n",
    "\n",
    "train_loader_set1 = DataLoader(\n",
    "    data1[0:int(0.8*nb_samples),],\n",
    "    batch_size=batch_size,\n",
    "    shuffle=True,\n",
    "    drop_last=True\n",
    ")\n",
    "test_loader_set1 = DataLoader(\n",
    "    data1[int(0.8*nb_samples):,],\n",
    "    batch_size=batch_size,\n",
    "    shuffle=True,\n",
    "    drop_last=True\n",
    ")\n",
    "train_loader_set2 = DataLoader(\n",
    "    data2[0:int(0.8*nb_samples),],\n",
    "    batch_size=batch_size,\n",
    "    shuffle=True,\n",
    "    drop_last=True\n",
    ")\n",
    "test_loader_set2 = DataLoader(\n",
    "    data2[int(0.8*nb_samples):,],\n",
    "    batch_size=batch_size,\n",
    "    shuffle=True,\n",
    "    drop_last=True\n",
    ")"
   ]
  },
  {
   "cell_type": "markdown",
   "id": "hired-action",
   "metadata": {},
   "source": [
    "My neural network has the following architecture:\n",
    "Encoder for the two modalities looks like:\n",
    "<span class=\"math display\">\n",
    "    \\begin{aligned}\n",
    "    x_1=\\mathrm{relu}(Ax_1+b)\\\\\n",
    "    z_1=Bx_1+b_2\\\\\n",
    "    x_2=\\mathrm{relu}(A'x_2+b')\\\\\n",
    "    z_2=Bx_2+b_2\n",
    "    \\end{aligned}\n",
    "</span>\n",
    "The output of the two encoders are:\n",
    "<span class=\"math display\">\n",
    "    \\begin{aligned}\n",
    "    \\lambda_1&=z_1(0)\\\\\n",
    "    \\lambda_2&=-\\mathrm{exp}(z_1(1))\\\\\n",
    "    \\lambda'_1&=z_2(0)\\\\\n",
    "    \\lambda'_2&=-\\mathrm{exp}(z_2(1))\n",
    "    \\end{aligned}\n",
    "</span>\n",
    "The output of encoder is fed to Gibbs sampler function. The output of Gibbs sampler is fed to the decoder. The equation for the each of the decoders is given by:\n",
    "<span class=\"math display\">\n",
    "    \\begin{aligned}\n",
    "    x_1=Cz_1\n",
    "    \\end{aligned}\n",
    "</span>"
   ]
  },
  {
   "cell_type": "code",
   "execution_count": 21,
   "id": "romance-soccer",
   "metadata": {},
   "outputs": [],
   "source": [
    "## Neural net is like: [mu,logvar]=(relu(xA))B,x=sig((relu(zC))D)\n",
    "\n",
    "latent_dim1 = 1\n",
    "latent_dim2 = 1\n",
    "        \n",
    "class VAE(nn.Module):\n",
    "    def __init__(self):\n",
    "        super(VAE,self).__init__()\n",
    "        self.gibbs                   = gibbs_sampler_poise.gibbs_sampler()  \n",
    "        self.kl_div                  = kl_divergence_calculator.kl_divergence()\n",
    "        ## Encoder set1\n",
    "        self.set1_enc1 = nn.Linear(in_features = dim_exp,out_features = 2*latent_dim1)\n",
    "        self.set1_enc2 = nn.Linear(in_features = 2*latent_dim1,out_features = 2*latent_dim1)\n",
    "        ## Encoder set2\n",
    "        self.set2_enc1 = nn.Linear(in_features = dim_exp,out_features = 2*latent_dim2)\n",
    "        self.set2_enc2 = nn.Linear(in_features = 2*latent_dim2,out_features = 2*latent_dim2)\n",
    "        ## Decoder set1\n",
    "        self.set1_dec1 = nn.Linear(in_features = latent_dim1,out_features = dim_exp,bias=False)\n",
    "        ## Decoder set2\n",
    "        self.set2_dec1 = nn.Linear(in_features = latent_dim2,out_features = dim_exp,bias=False)\n",
    "        self.register_parameter(name='g11', param = nn.Parameter(torch.randn(latent_dim1,latent_dim1)))\n",
    "        self.register_parameter(name='g12', param = nn.Parameter(torch.randn(latent_dim1,latent_dim2)))\n",
    "        self.register_parameter(name='alpha', param = nn.Parameter(torch.randn(latent_dim1,latent_dim2)))\n",
    "        self.flag_initialize= 1\n",
    "    def forward(self,x1,x2):\n",
    "        data1    = x1\n",
    "        data2    = x2\n",
    "        ## encoding\n",
    "# Modality 1\n",
    "        x1       = F.relu(self.set1_enc1(x1))\n",
    "        x1       = self.set1_enc2(x1)\n",
    "        mu1      = x1[:,0]\n",
    "        mu1      = mu1.unsqueeze(0)\n",
    "        mu1      = torch.transpose(mu1,0,1)    \n",
    "        log_var1 = x1[:,1]\n",
    "        log_var1 = log_var1.unsqueeze(0)\n",
    "        log_var1 = torch.transpose(log_var1,0,1)    \n",
    "        var1     = -torch.exp(log_var1)         # lambda_2<0\n",
    "# Modality 2        \n",
    "        x2       = F.relu(self.set2_enc1(x2))\n",
    "        x2       = self.set2_enc2(x2)        \n",
    "        mu2      = x2[:,0]\n",
    "        mu2      = mu2.unsqueeze(0)\n",
    "        mu2      = torch.transpose(mu2,0,1)    \n",
    "        log_var2 = x2[:,1]\n",
    "        log_var2 = log_var2.unsqueeze(0)\n",
    "        log_var2 = torch.transpose(log_var2,0,1) \n",
    "        var2     = -torch.exp(log_var2)           #lambdap_2<0\n",
    "        g22      = -torch.square(self.g12)/4-torch.exp(self.alpha)\n",
    "        #if self.flag_initialize==1:\n",
    "        z1_prior,z2_prior = self.gibbs.initialize_prior_sample(self.g11,g22,self.g12)\n",
    "        #self.flag_initialize=self.flag_initialize+1\n",
    "        z1_posterior,z2_posterior = self.gibbs.initialize_posterior_sample(self.g11,g22,self.g12,mu1,log_var1,mu2,log_var2)\n",
    "\n",
    "        z1_prior,z2_prior = self.gibbs.prior_sample(z1_prior,z2_prior,self.g11,g22,self.g12)\n",
    "        z1_posterior,z2_posterior = self.gibbs.posterior_sample(z1_posterior,z2_posterior,self.g11,g22,self.g12,mu1,log_var1,mu2,log_var2)\n",
    "        G1 = torch.cat((self.g11,self.g12),0)\n",
    "        G2 = torch.cat((self.g12,g22),0)\n",
    "        G  = torch.cat((G1,G2),1)\n",
    "        part_fun0,part_fun1,part_fun2 = self.kl_div.calc(G,z1_posterior,z2_posterior,z1_prior,z2_prior,mu1,log_var1,mu2,log_var2)\n",
    "        ## decoding\n",
    "\n",
    "        reconstruction1=self.set1_dec1(z1_posterior)\n",
    "        reconstruction2=self.set2_dec1(z2_posterior)\n",
    "        \n",
    "        ## loss\n",
    "        mse_loss = nn.MSELoss(reduction='sum')\n",
    "        MSE1     = mse_loss(reconstruction1, data1)\n",
    "        MSE2     = mse_loss(reconstruction2, data2)\n",
    "        KLD      = part_fun0+part_fun1+part_fun2\n",
    "        loss     = MSE1+MSE2+KLD\n",
    "        return mu1,var1,mu2,var2,loss\n",
    "    \n",
    "    "
   ]
  },
  {
   "cell_type": "code",
   "execution_count": 22,
   "id": "weighted-nightlife",
   "metadata": {},
   "outputs": [
    {
     "name": "stdout",
     "output_type": "stream",
     "text": [
      "g11\n",
      "g12\n",
      "alpha\n",
      "set1_enc1.weight\n",
      "set1_enc1.bias\n",
      "set1_enc2.weight\n",
      "set1_enc2.bias\n",
      "set2_enc1.weight\n",
      "set2_enc1.bias\n",
      "set2_enc2.weight\n",
      "set2_enc2.bias\n",
      "set1_dec1.weight\n",
      "set2_dec1.weight\n"
     ]
    }
   ],
   "source": [
    "model = VAE().to(device)\n",
    "optimizer = optim.Adam(model.parameters(),lr=lr)\n",
    "for name, para in model.named_parameters():\n",
    "    print(name)"
   ]
  },
  {
   "cell_type": "code",
   "execution_count": 23,
   "id": "progressive-launch",
   "metadata": {},
   "outputs": [],
   "source": [
    "def train(model,dataloader1,dataloader2):\n",
    "    model.train()\n",
    "    running_loss = 0\n",
    "    for i,(data1,data2) in enumerate(zip(dataloader1,dataloader2)):\n",
    "        data1                        = data1.to(device)\n",
    "        data2                        = data2.to(device)        \n",
    "        mu1,var1,mu2,var2,loss = model(data1,data2)     \n",
    "        running_loss                += loss.item()\n",
    "        loss.backward() \n",
    "        optimizer.step()\n",
    "#         for p in model.parameters():\n",
    "#             print(p.grad.norm())\n",
    "    train_loss = running_loss/(len(dataloader1.dataset)+len(dataloader2.dataset))\n",
    "    return train_loss\n",
    "def test(model,dataloader1,dataloader2):\n",
    "    mean1_pred = []\n",
    "    var1_pred  = []\n",
    "    mean2_pred = []\n",
    "    var2_pred  = []\n",
    "    model.eval()\n",
    "    running_loss = 0.0\n",
    "    with torch.no_grad():\n",
    "        for i,(data1,data2) in enumerate(zip(dataloader1,dataloader2)):\n",
    "            data1                        = data1.to(device)\n",
    "            data2                        = data2.to(device)        \n",
    "            mu1,var1,mu2,var2,loss = model(data1,data2)  \n",
    "            running_loss              += loss.item()\n",
    "            mean1_pred                += [torch.mean(mu1)]\n",
    "            var1_pred                 += [torch.mean(var1)]\n",
    "            mean2_pred                += [torch.mean(mu2)]\n",
    "            var2_pred                 += [torch.mean(var2)]\n",
    "    test_loss   = running_loss/(len(dataloader1.dataset)+len(dataloader2.dataset))\n",
    "    mean1_pred  = torch.stack(mean1_pred,dim=0)\n",
    "    var1_pred   = torch.stack(var1_pred,dim=0)\n",
    "    mean1_pred  = torch.mean(mean1_pred)\n",
    "    var1_pred   = torch.mean(var1_pred)\n",
    "    mean2_pred  = torch.stack(mean2_pred,dim=0)\n",
    "    var2_pred   = torch.stack(var2_pred,dim=0)\n",
    "    mean2_pred  = torch.mean(mean2_pred)\n",
    "    var2_pred   = torch.mean(var2_pred)\n",
    "    return test_loss,mean1_pred,var1_pred,mean2_pred,var2_pred"
   ]
  },
  {
   "cell_type": "code",
   "execution_count": 24,
   "id": "younger-domain",
   "metadata": {
    "tags": []
   },
   "outputs": [
    {
     "ename": "IndexError",
     "evalue": "index 1 is out of bounds for dimension 0 with size 1",
     "output_type": "error",
     "traceback": [
      "\u001b[0;31m---------------------------------------------------------------------------\u001b[0m",
      "\u001b[0;31mIndexError\u001b[0m                                Traceback (most recent call last)",
      "\u001b[0;32m<ipython-input-24-43890bec448d>\u001b[0m in \u001b[0;36m<module>\u001b[0;34m\u001b[0m\n\u001b[1;32m      3\u001b[0m \u001b[0;32mfor\u001b[0m \u001b[0mepoch\u001b[0m \u001b[0;32min\u001b[0m \u001b[0mrange\u001b[0m\u001b[0;34m(\u001b[0m\u001b[0mepochs\u001b[0m\u001b[0;34m)\u001b[0m\u001b[0;34m:\u001b[0m\u001b[0;34m\u001b[0m\u001b[0;34m\u001b[0m\u001b[0m\n\u001b[1;32m      4\u001b[0m     \u001b[0;31m#print(f\"Epoch {epoch+1} of {epochs}\")\u001b[0m\u001b[0;34m\u001b[0m\u001b[0;34m\u001b[0m\u001b[0;34m\u001b[0m\u001b[0m\n\u001b[0;32m----> 5\u001b[0;31m     \u001b[0mtrain_epoch_loss\u001b[0m \u001b[0;34m=\u001b[0m \u001b[0mtrain\u001b[0m\u001b[0;34m(\u001b[0m\u001b[0mmodel\u001b[0m\u001b[0;34m,\u001b[0m\u001b[0mtrain_loader_set1\u001b[0m\u001b[0;34m,\u001b[0m\u001b[0mtrain_loader_set2\u001b[0m\u001b[0;34m)\u001b[0m\u001b[0;34m\u001b[0m\u001b[0;34m\u001b[0m\u001b[0m\n\u001b[0m\u001b[1;32m      6\u001b[0m     \u001b[0mtest_epoch_loss\u001b[0m\u001b[0;34m,\u001b[0m\u001b[0mmean1_pred\u001b[0m\u001b[0;34m,\u001b[0m\u001b[0mvar1_pred\u001b[0m\u001b[0;34m,\u001b[0m\u001b[0mmean2_pred\u001b[0m\u001b[0;34m,\u001b[0m\u001b[0mvar2_pred\u001b[0m \u001b[0;34m=\u001b[0m \u001b[0mtest\u001b[0m\u001b[0;34m(\u001b[0m\u001b[0mmodel\u001b[0m\u001b[0;34m,\u001b[0m\u001b[0mtest_loader_set1\u001b[0m\u001b[0;34m,\u001b[0m\u001b[0mtest_loader_set1\u001b[0m\u001b[0;34m)\u001b[0m\u001b[0;34m\u001b[0m\u001b[0;34m\u001b[0m\u001b[0m\n\u001b[1;32m      7\u001b[0m     \u001b[0mtrain_loss\u001b[0m\u001b[0;34m.\u001b[0m\u001b[0mappend\u001b[0m\u001b[0;34m(\u001b[0m\u001b[0mtrain_epoch_loss\u001b[0m\u001b[0;34m)\u001b[0m\u001b[0;34m\u001b[0m\u001b[0;34m\u001b[0m\u001b[0m\n",
      "\u001b[0;32m<ipython-input-23-9959ce2aab56>\u001b[0m in \u001b[0;36mtrain\u001b[0;34m(model, dataloader1, dataloader2)\u001b[0m\n\u001b[1;32m      5\u001b[0m         \u001b[0mdata1\u001b[0m                        \u001b[0;34m=\u001b[0m \u001b[0mdata1\u001b[0m\u001b[0;34m.\u001b[0m\u001b[0mto\u001b[0m\u001b[0;34m(\u001b[0m\u001b[0mdevice\u001b[0m\u001b[0;34m)\u001b[0m\u001b[0;34m\u001b[0m\u001b[0;34m\u001b[0m\u001b[0m\n\u001b[1;32m      6\u001b[0m         \u001b[0mdata2\u001b[0m                        \u001b[0;34m=\u001b[0m \u001b[0mdata2\u001b[0m\u001b[0;34m.\u001b[0m\u001b[0mto\u001b[0m\u001b[0;34m(\u001b[0m\u001b[0mdevice\u001b[0m\u001b[0;34m)\u001b[0m\u001b[0;34m\u001b[0m\u001b[0;34m\u001b[0m\u001b[0m\n\u001b[0;32m----> 7\u001b[0;31m         \u001b[0mmu1\u001b[0m\u001b[0;34m,\u001b[0m\u001b[0mvar1\u001b[0m\u001b[0;34m,\u001b[0m\u001b[0mmu2\u001b[0m\u001b[0;34m,\u001b[0m\u001b[0mvar2\u001b[0m\u001b[0;34m,\u001b[0m\u001b[0mloss\u001b[0m \u001b[0;34m=\u001b[0m \u001b[0mmodel\u001b[0m\u001b[0;34m(\u001b[0m\u001b[0mdata1\u001b[0m\u001b[0;34m,\u001b[0m\u001b[0mdata2\u001b[0m\u001b[0;34m)\u001b[0m\u001b[0;34m\u001b[0m\u001b[0;34m\u001b[0m\u001b[0m\n\u001b[0m\u001b[1;32m      8\u001b[0m         \u001b[0mrunning_loss\u001b[0m                \u001b[0;34m+=\u001b[0m \u001b[0mloss\u001b[0m\u001b[0;34m.\u001b[0m\u001b[0mitem\u001b[0m\u001b[0;34m(\u001b[0m\u001b[0;34m)\u001b[0m\u001b[0;34m\u001b[0m\u001b[0;34m\u001b[0m\u001b[0m\n\u001b[1;32m      9\u001b[0m         \u001b[0mloss\u001b[0m\u001b[0;34m.\u001b[0m\u001b[0mbackward\u001b[0m\u001b[0;34m(\u001b[0m\u001b[0;34m)\u001b[0m\u001b[0;34m\u001b[0m\u001b[0;34m\u001b[0m\u001b[0m\n",
      "\u001b[0;32m~/achint-env2/lib/python3.8/site-packages/torch/nn/modules/module.py\u001b[0m in \u001b[0;36m_call_impl\u001b[0;34m(self, *input, **kwargs)\u001b[0m\n\u001b[1;32m    887\u001b[0m             \u001b[0mresult\u001b[0m \u001b[0;34m=\u001b[0m \u001b[0mself\u001b[0m\u001b[0;34m.\u001b[0m\u001b[0m_slow_forward\u001b[0m\u001b[0;34m(\u001b[0m\u001b[0;34m*\u001b[0m\u001b[0minput\u001b[0m\u001b[0;34m,\u001b[0m \u001b[0;34m**\u001b[0m\u001b[0mkwargs\u001b[0m\u001b[0;34m)\u001b[0m\u001b[0;34m\u001b[0m\u001b[0;34m\u001b[0m\u001b[0m\n\u001b[1;32m    888\u001b[0m         \u001b[0;32melse\u001b[0m\u001b[0;34m:\u001b[0m\u001b[0;34m\u001b[0m\u001b[0;34m\u001b[0m\u001b[0m\n\u001b[0;32m--> 889\u001b[0;31m             \u001b[0mresult\u001b[0m \u001b[0;34m=\u001b[0m \u001b[0mself\u001b[0m\u001b[0;34m.\u001b[0m\u001b[0mforward\u001b[0m\u001b[0;34m(\u001b[0m\u001b[0;34m*\u001b[0m\u001b[0minput\u001b[0m\u001b[0;34m,\u001b[0m \u001b[0;34m**\u001b[0m\u001b[0mkwargs\u001b[0m\u001b[0;34m)\u001b[0m\u001b[0;34m\u001b[0m\u001b[0;34m\u001b[0m\u001b[0m\n\u001b[0m\u001b[1;32m    890\u001b[0m         for hook in itertools.chain(\n\u001b[1;32m    891\u001b[0m                 \u001b[0m_global_forward_hooks\u001b[0m\u001b[0;34m.\u001b[0m\u001b[0mvalues\u001b[0m\u001b[0;34m(\u001b[0m\u001b[0;34m)\u001b[0m\u001b[0;34m,\u001b[0m\u001b[0;34m\u001b[0m\u001b[0;34m\u001b[0m\u001b[0m\n",
      "\u001b[0;32m<ipython-input-21-4b3ba5bf3dbe>\u001b[0m in \u001b[0;36mforward\u001b[0;34m(self, x1, x2)\u001b[0m\n\u001b[1;32m     58\u001b[0m         \u001b[0mG2\u001b[0m \u001b[0;34m=\u001b[0m \u001b[0mtorch\u001b[0m\u001b[0;34m.\u001b[0m\u001b[0mcat\u001b[0m\u001b[0;34m(\u001b[0m\u001b[0;34m(\u001b[0m\u001b[0mself\u001b[0m\u001b[0;34m.\u001b[0m\u001b[0mg12\u001b[0m\u001b[0;34m,\u001b[0m\u001b[0mg22\u001b[0m\u001b[0;34m)\u001b[0m\u001b[0;34m,\u001b[0m\u001b[0;36m0\u001b[0m\u001b[0;34m)\u001b[0m\u001b[0;34m\u001b[0m\u001b[0;34m\u001b[0m\u001b[0m\n\u001b[1;32m     59\u001b[0m         \u001b[0mG\u001b[0m  \u001b[0;34m=\u001b[0m \u001b[0mtorch\u001b[0m\u001b[0;34m.\u001b[0m\u001b[0mcat\u001b[0m\u001b[0;34m(\u001b[0m\u001b[0;34m(\u001b[0m\u001b[0mG1\u001b[0m\u001b[0;34m,\u001b[0m\u001b[0mG2\u001b[0m\u001b[0;34m)\u001b[0m\u001b[0;34m,\u001b[0m\u001b[0;36m1\u001b[0m\u001b[0;34m)\u001b[0m\u001b[0;34m\u001b[0m\u001b[0;34m\u001b[0m\u001b[0m\n\u001b[0;32m---> 60\u001b[0;31m         \u001b[0mpart_fun0\u001b[0m\u001b[0;34m,\u001b[0m\u001b[0mpart_fun1\u001b[0m\u001b[0;34m,\u001b[0m\u001b[0mpart_fun2\u001b[0m \u001b[0;34m=\u001b[0m \u001b[0mself\u001b[0m\u001b[0;34m.\u001b[0m\u001b[0mkl_div\u001b[0m\u001b[0;34m.\u001b[0m\u001b[0mcalc\u001b[0m\u001b[0;34m(\u001b[0m\u001b[0mG\u001b[0m\u001b[0;34m,\u001b[0m\u001b[0mz1_posterior\u001b[0m\u001b[0;34m,\u001b[0m\u001b[0mz2_posterior\u001b[0m\u001b[0;34m,\u001b[0m\u001b[0mz1_prior\u001b[0m\u001b[0;34m,\u001b[0m\u001b[0mz2_prior\u001b[0m\u001b[0;34m,\u001b[0m\u001b[0mmu1\u001b[0m\u001b[0;34m,\u001b[0m\u001b[0mlog_var1\u001b[0m\u001b[0;34m,\u001b[0m\u001b[0mmu2\u001b[0m\u001b[0;34m,\u001b[0m\u001b[0mlog_var2\u001b[0m\u001b[0;34m)\u001b[0m\u001b[0;34m\u001b[0m\u001b[0;34m\u001b[0m\u001b[0m\n\u001b[0m\u001b[1;32m     61\u001b[0m         \u001b[0;31m## decoding\u001b[0m\u001b[0;34m\u001b[0m\u001b[0;34m\u001b[0m\u001b[0;34m\u001b[0m\u001b[0m\n\u001b[1;32m     62\u001b[0m \u001b[0;34m\u001b[0m\u001b[0m\n",
      "\u001b[0;32m~/Practice_code/Synthetic_dataset/POISE_VAE/kl_divergence_calculator.ipynb\u001b[0m in \u001b[0;36mcalc\u001b[0;34m(self, G, z1, z2, z1_prior, z2_prior, mu1, log_var1, mu2, log_var2)\u001b[0m\n",
      "\u001b[0;31mIndexError\u001b[0m: index 1 is out of bounds for dimension 0 with size 1"
     ]
    }
   ],
   "source": [
    "train_loss = []\n",
    "test_loss = []\n",
    "for epoch in range(epochs):\n",
    "    #print(f\"Epoch {epoch+1} of {epochs}\")\n",
    "    train_epoch_loss = train(model,train_loader_set1,train_loader_set2)\n",
    "    test_epoch_loss,mean1_pred,var1_pred,mean2_pred,var2_pred = test(model,test_loader_set1,test_loader_set1)\n",
    "    train_loss.append(train_epoch_loss)\n",
    "    test_loss.append(test_epoch_loss)\n",
    "print(f\"Train Loss    : {train_epoch_loss:.4f}\")\n",
    "print(f\"Test Loss     :  {test_epoch_loss:.4f}\")\n",
    "print(f\"Mean Pred set1:  {mean1_pred:.4f}\")\n",
    "print(f\"Var  Pred set1:  {var1_pred:.4f}\")\n",
    "print(f\"Mean Pred set2:  {mean2_pred:.4f}\")\n",
    "print(f\"Var  Pred set2:  {var2_pred:.4f}\")"
   ]
  },
  {
   "cell_type": "code",
   "execution_count": 12,
   "id": "smart-trainer",
   "metadata": {},
   "outputs": [
    {
     "name": "stdout",
     "output_type": "stream",
     "text": [
      "Parameter containing:\n",
      "tensor([[-0.0047]], device='cuda:0', requires_grad=True)\n",
      "Parameter containing:\n",
      "tensor([[0.6775]], device='cuda:0', requires_grad=True)\n",
      "Parameter containing:\n",
      "tensor([[-0.1421,  0.5526],\n",
      "        [-0.3946, -1.2757]], device='cuda:0', requires_grad=True)\n",
      "Parameter containing:\n",
      "tensor([0.1812, 1.2809], device='cuda:0', requires_grad=True)\n",
      "Parameter containing:\n",
      "tensor([[0.0365, 0.4306],\n",
      "        [0.7309, 0.8614]], device='cuda:0', requires_grad=True)\n",
      "Parameter containing:\n",
      "tensor([-0.2458,  0.2073], device='cuda:0', requires_grad=True)\n",
      "Parameter containing:\n",
      "tensor([[-0.3182, -0.8191],\n",
      "        [-1.3657, -1.2470]], device='cuda:0', requires_grad=True)\n",
      "Parameter containing:\n",
      "tensor([1.6584, 0.2738], device='cuda:0', requires_grad=True)\n",
      "Parameter containing:\n",
      "tensor([[0.0573, 0.2208],\n",
      "        [1.1956, 1.2503]], device='cuda:0', requires_grad=True)\n",
      "Parameter containing:\n",
      "tensor([0.0156, 1.1684], device='cuda:0', requires_grad=True)\n",
      "Parameter containing:\n",
      "tensor([[-1.1159],\n",
      "        [-0.3848]], device='cuda:0', requires_grad=True)\n",
      "Parameter containing:\n",
      "tensor([[-0.1323],\n",
      "        [ 1.1777]], device='cuda:0', requires_grad=True)\n"
     ]
    }
   ],
   "source": [
    "for name, para in model.named_parameters():\n",
    "    print(para)"
   ]
  },
  {
   "cell_type": "code",
   "execution_count": 17,
   "id": "smaller-curtis",
   "metadata": {},
   "outputs": [
    {
     "data": {
      "image/png": "[encoded data removed]",
      "text/plain": [
       "<Figure size 432x144 with 2 Axes>"
      ]
     },
     "metadata": {
      "needs_background": "light"
     },
     "output_type": "display_data"
    }
   ],
   "source": [
    "flg,(ax1,ax2)=plt.subplots(1,2,figsize=(6, 2))\n",
    "ax1.plot(train_loss)\n",
    "ax1.set(xlabel='x',ylabel='loss',title='training loss')\n",
    "ax2.plot(test_loss)\n",
    "ax2.set(xlabel='x',ylabel='loss',title='test loss')\n",
    "flg.tight_layout()\n",
    "plt.show()"
   ]
  },
  {
   "cell_type": "code",
   "execution_count": 18,
   "id": "listed-rainbow",
   "metadata": {},
   "outputs": [
    {
     "data": {
      "image/png": "[encoded data removed]",
      "text/plain": [
       "<Figure size 432x288 with 2 Axes>"
      ]
     },
     "metadata": {
      "needs_background": "light"
     },
     "output_type": "display_data"
    }
   ],
   "source": [
    "## Transforming data to a higher dimension\n",
    "mean_pred  =torch.tensor(0.).cpu()   # . converts long to float\n",
    "var_pred =torch.tensor(1.0).cpu()\n",
    "gen_data  = sample(mean_pred,var_pred,nb_samples)\n",
    "gen_data  = gen_data.unsqueeze(1)\n",
    "\n",
    "\"\"\"\n",
    "inp_data= samplesx1\n",
    "fun_A   = 1xdim_exp\n",
    "data    = samplesxdim_exp   (data = inp_dataxfun_A)\n",
    "\"\"\"\n",
    "#fun_A   = torch.normal(0, 1, size=(1, dim_exp))  ## random tensor of size dim_expxdata_samples mean=0, var=1, s\n",
    "param_dict={}\n",
    "for name, para in model.named_parameters():\n",
    "    param_dict[name]=para\n",
    "\n",
    "A1=param_dict[\"set1_dec1.weight\"]\n",
    "A2=param_dict[\"set2_dec1.weight\"]\n",
    "set1_dec1_wgt=A1\n",
    "set2_dec1_wgt=A2\n",
    "set1_dec1_wgt  = (torch.transpose(set1_dec1_wgt,0,1)).cpu()\n",
    "set2_dec1_wgt  = (torch.transpose(set2_dec1_wgt,0,1)).cpu()\n",
    "\n",
    "data1_sim= gen_data*set1_dec1_wgt\n",
    "data2_sim= gen_data*set2_dec1_wgt\n",
    "\n",
    "dat1_x_cord = data1_sim[:,0].cpu().detach().numpy()\n",
    "dat1_y_cord = data1_sim[:,1].cpu().detach().numpy()\n",
    "dat2_x_cord = data2_sim[:,0].cpu().detach().numpy()\n",
    "dat2_y_cord = data2_sim[:,1].cpu().detach().numpy()\n",
    "\n",
    "fig, ax = plt.subplots(2)\n",
    "\n",
    "ax[0].plot(x1_cord,y1_cord, 'o', color='black',label='true set1')\n",
    "ax[0].plot(x2_cord,y2_cord, 'o', color='red',label='true set2')\n",
    "ax[0].legend()\n",
    "ax[1].plot(dat1_x_cord,dat1_y_cord, 'o', color='black',label='gen set1')\n",
    "ax[1].plot(dat2_x_cord,dat2_y_cord, 'o', color='red',label='gen set2')\n",
    "ax[1].legend()\n",
    "plt.show()"
   ]
  },
  {
   "cell_type": "code",
   "execution_count": 19,
   "id": "temporal-steal",
   "metadata": {},
   "outputs": [
    {
     "data": {
      "text/plain": [
       "[Parameter containing:\n",
       " tensor([[2.0768]], device='cuda:0', requires_grad=True),\n",
       " Parameter containing:\n",
       " tensor([[-2.4415]], device='cuda:0', requires_grad=True),\n",
       " Parameter containing:\n",
       " tensor([[-0.5008]], device='cuda:0', requires_grad=True),\n",
       " Parameter containing:\n",
       " tensor([[-0.7332, -1.0731],\n",
       "         [ 2.1564,  1.4422]], device='cuda:0', requires_grad=True),\n",
       " Parameter containing:\n",
       " tensor([0.4124, 1.3495], device='cuda:0', requires_grad=True),\n",
       " Parameter containing:\n",
       " tensor([[-1.5779, -1.8647],\n",
       "         [ 0.2232, -0.0667]], device='cuda:0', requires_grad=True),\n",
       " Parameter containing:\n",
       " tensor([-1.1530, -1.0212], device='cuda:0', requires_grad=True),\n",
       " Parameter containing:\n",
       " tensor([[-0.2210, -0.2045],\n",
       "         [ 1.0558,  0.0590]], device='cuda:0', requires_grad=True),\n",
       " Parameter containing:\n",
       " tensor([-0.4018,  1.8833], device='cuda:0', requires_grad=True),\n",
       " Parameter containing:\n",
       " tensor([[-0.4392,  2.6525],\n",
       "         [ 0.0175, -1.7382]], device='cuda:0', requires_grad=True),\n",
       " Parameter containing:\n",
       " tensor([-1.9299, -0.6134], device='cuda:0', requires_grad=True),\n",
       " Parameter containing:\n",
       " tensor([[ 0.0671],\n",
       "         [-0.0252]], device='cuda:0', requires_grad=True),\n",
       " Parameter containing:\n",
       " tensor([[ 1.3689],\n",
       "         [-1.6799]], device='cuda:0', requires_grad=True)]"
      ]
     },
     "execution_count": 19,
     "metadata": {},
     "output_type": "execute_result"
    }
   ],
   "source": [
    "A= list(model.parameters())\n",
    "A"
   ]
  },
  {
   "cell_type": "code",
   "execution_count": 20,
   "id": "accurate-manner",
   "metadata": {},
   "outputs": [],
   "source": [
    "sample_dict={}\n",
    "for name, para in model.named_parameters():\n",
    "    sample_dict[name]=para"
   ]
  },
  {
   "cell_type": "code",
   "execution_count": 21,
   "id": "activated-federal",
   "metadata": {},
   "outputs": [
    {
     "data": {
      "text/plain": [
       "Parameter containing:\n",
       "tensor([[-0.7332, -1.0731],\n",
       "        [ 2.1564,  1.4422]], device='cuda:0', requires_grad=True)"
      ]
     },
     "execution_count": 21,
     "metadata": {},
     "output_type": "execute_result"
    }
   ],
   "source": [
    "sample_dict[\"set1_enc1.weight\"]"
   ]
  },
  {
   "cell_type": "code",
   "execution_count": 22,
   "id": "earned-royalty",
   "metadata": {},
   "outputs": [
    {
     "data": {
      "text/plain": [
       "<generator object Module.named_parameters at 0x7f9216528ac0>"
      ]
     },
     "execution_count": 22,
     "metadata": {},
     "output_type": "execute_result"
    }
   ],
   "source": [
    "model.named_parameters()"
   ]
  }
 ],
 "metadata": {
  "kernelspec": {
   "display_name": "achint-env2",
   "language": "python",
   "name": "achint-env2"
  },
  "language_info": {
   "codemirror_mode": {
    "name": "ipython",
    "version": 3
   },
   "file_extension": ".py",
   "mimetype": "text/x-python",
   "name": "python",
   "nbconvert_exporter": "python",
   "pygments_lexer": "ipython3",
   "version": "3.8.5"
  }
 },
 "nbformat": 4,
 "nbformat_minor": 5
}
