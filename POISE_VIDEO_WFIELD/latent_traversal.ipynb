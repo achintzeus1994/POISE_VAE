{
 "cells": [
  {
   "cell_type": "code",
   "execution_count": 1,
   "id": "affiliated-penetration",
   "metadata": {},
   "outputs": [
    {
     "name": "stdout",
     "output_type": "stream",
     "text": [
      "importing Jupyter notebook from gibbs_sampler_poise.ipynb\n"
     ]
    }
   ],
   "source": [
    "import torch\n",
    "import torchvision\n",
    "import torch.optim as optim\n",
    "import argparse\n",
    "import matplotlib\n",
    "import torch.nn as nn\n",
    "import import_ipynb\n",
    "import torch\n",
    "latent_dim1 = 32\n",
    "latent_dim2 = 16"
   ]
  },
  {
   "cell_type": "code",
   "execution_count": 2,
   "id": "legislative-holocaust",
   "metadata": {},
   "outputs": [],
   "source": [
    "device = torch.device('cuda' if torch.cuda.is_available() else 'cpu')\n",
    "class latent_traversals():\n",
    "    def __init__(self,latent_dim1, latent_dim2, batch_size):\n",
    "        super(latent_traversals,self).__init__()\n",
    "        self.latent_dim1 = latent_dim1\n",
    "        self.latent_dim2 = latent_dim2\n",
    "        self.batch_size = batch_size\n",
    "    def traversals(self,idx,j,flag_initialize,z1,z2,g11,g22,mu1,var1,mu2,var2,n_iterations):\n",
    "        z1_perturbed = z1.cpu().numpy()\n",
    "        z2_perturbed = z2.cpu().numpy() \n",
    "        print('z1',z1.size())\n",
    "        print('z2',z2.size())\n",
    "        print(z1_perturbed)\n",
    "        z1_perturbed = torch.tensor(z1_perturbed).to(device)\n",
    "        z2_perturbed = torch.tensor(z2_perturbed).to(device)\n",
    "#         print('mu1',mu1.size())\n",
    "#         print('mu2',mu2.size())\n",
    "#         print('var1',var1.size())\n",
    "#         print('var2',var2.size())        \n",
    "        if idx<latent_dim1:\n",
    "            z1_perturbed[0,idx]= mu1[0,idx]+j*torch.sqrt(var1[0,idx].float())\n",
    "        else:\n",
    "            z2_perturbed[0,idx-latent_dim1]= mu2[0,idx-latent_dim1]+j*torch.sqrt(var2[0,idx-latent_dim1].float())\n",
    "        return z1_perturbed,z2_perturbed"
   ]
  },
  {
   "cell_type": "code",
   "execution_count": null,
   "id": "twelve-familiar",
   "metadata": {},
   "outputs": [],
   "source": []
  },
  {
   "cell_type": "code",
   "execution_count": 17,
   "id": "detailed-fellowship",
   "metadata": {},
   "outputs": [
    {
     "data": {
      "text/plain": [
       "latent_traversals(\n",
       "  (set1_enc1): Linear(in_features=784, out_features=512, bias=True)\n",
       "  (set1_enc2): Linear(in_features=512, out_features=128, bias=True)\n",
       "  (set1_enc3): Linear(in_features=128, out_features=64, bias=True)\n",
       "  (set2_enc1): Linear(in_features=784, out_features=512, bias=True)\n",
       "  (set2_enc2): Linear(in_features=512, out_features=128, bias=True)\n",
       "  (set2_enc3): Linear(in_features=128, out_features=32, bias=True)\n",
       "  (set1_dec1): Linear(in_features=32, out_features=128, bias=True)\n",
       "  (set1_dec2): Linear(in_features=128, out_features=512, bias=True)\n",
       "  (set1_dec3): Linear(in_features=512, out_features=784, bias=True)\n",
       "  (set2_dec1): Linear(in_features=16, out_features=128, bias=True)\n",
       "  (set2_dec2): Linear(in_features=128, out_features=512, bias=True)\n",
       "  (set2_dec3): Linear(in_features=512, out_features=784, bias=True)\n",
       ")"
      ]
     },
     "execution_count": 17,
     "metadata": {},
     "output_type": "execute_result"
    }
   ],
   "source": []
  },
  {
   "cell_type": "code",
   "execution_count": null,
   "id": "critical-intent",
   "metadata": {},
   "outputs": [],
   "source": []
  }
 ],
 "metadata": {
  "kernelspec": {
   "display_name": "achint-env2",
   "language": "python",
   "name": "achint-env2"
  },
  "language_info": {
   "codemirror_mode": {
    "name": "ipython",
    "version": 3
   },
   "file_extension": ".py",
   "mimetype": "text/x-python",
   "name": "python",
   "nbconvert_exporter": "python",
   "pygments_lexer": "ipython3",
   "version": "3.8.10"
  }
 },
 "nbformat": 4,
 "nbformat_minor": 5
}
