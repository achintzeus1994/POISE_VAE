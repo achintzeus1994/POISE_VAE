{
 "cells": [
  {
   "cell_type": "markdown",
   "id": "continued-convergence",
   "metadata": {},
   "source": [
    "The KL divergence is given by,\n",
    "<span class=\"math display\">\n",
    "    \\begin{aligned}\n",
    "    D_{KL}(q(\\mathbf{z, z'|x, x'}) \\Vert p(\\mathbf{z, z'})) &= \\mathrm{log}\\left[\\frac{\\tilde{q}_{\\phi}(z^{(i)},z'^{(i)}|x,x')}{\\tilde{p}_{\\theta}(z^{(i)},z'^{(i)})}\\right]-\\langle \\mathbf{sg}( \\mathbb{E}_q[T]),\\lambda\\rangle-\\langle \\mathbf{sg}( \\mathbb{E}_q[T']),\\lambda'\\rangle+(\\mathbb{E}_p-\\mathbb{E}_q)\\langle \\mathbf{sg}[T\\otimes T'],G\\rangle\n",
    "    \\end{aligned}\n",
    "</span>\n",
    "<span class=\"math display\">\n",
    "    \\begin{aligned}\n",
    "    T_{prior}&=[z_{prior},z^2_{prior}]\\\\\n",
    "    T'_{prior}&=[z'_{prior},z'^2_{prior}]\\\\\n",
    "    T_{posterior}&=[z_{posterior},z^2_{posterior}]\\\\\n",
    "    T'_{posterior}&=[z'_{posterior},z'^2_{posterior}]\\\\\n",
    "    \\lambda&=[\\lambda_1,\\lambda_2]\\\\\n",
    "    \\lambda'&=[\\lambda'_1,\\lambda'_2]\\\\\n",
    "    T_{prior}^2&=(z^2_{prior}+z'^2_{prior})\\\\\n",
    "    T_{posterior}^2&=(z^2_{posterior}+z'^2_{posterior})\n",
    "    \\end{aligned}\n",
    "</span>\n",
    "We also define,\n",
    "<span class=\"math display\">\n",
    "    \\begin{aligned}\n",
    "    \\mathrm{log}p_{prior}&=-T_{prior}^2+T_{posterior}*G*T'_{posterior}\\\\\n",
    "    \\mathrm{log}p_{posterior}&=-T_{posterior}^2+T_{posterior}*G*T'_{posterior}+\\lambda*T_{posterior}+\\lambda'*T'_{posterior}\\\\\n",
    "    \\end{aligned}\n",
    "</span>\n",
    "The three terms of the partition function are given by:\n",
    "<span class=\"math display\">\n",
    "    \\begin{aligned}\n",
    "    part_0&=\\sum \\mathrm{log}p_{posterior}-\\mathrm{log}p_{prior}=\\lambda*T_{posterior}+\\lambda'*T'_{posterior}\\\\\n",
    "    part_1&=-\\sum \\lambda*sgd(T_{posterior})-\\sum \\lambda'*sgd(T'_{posterior})\\\\\n",
    "    part_2&=(\\mathbb{E}_p-\\mathbb{E}_q)\\langle \\mathbf{sg}[T\\otimes T'],G\\rangle=\\mathbb{E}_p\\langle \\mathbf{sg}[T_{prior}\\otimes T'_{prior}],G\\rangle-\\mathbb{E}_q\\langle \\mathbf{sg}[T_{posterior}\\otimes T'_{posterior}],G\\rangle\n",
    "    \\end{aligned}\n",
    "</span>"
   ]
  },
  {
   "cell_type": "code",
   "execution_count": null,
   "id": "applicable-level",
   "metadata": {},
   "outputs": [],
   "source": []
  }
 ],
 "metadata": {
  "kernelspec": {
   "display_name": "achint-env2",
   "language": "python",
   "name": "achint-env2"
  },
  "language_info": {
   "codemirror_mode": {
    "name": "ipython",
    "version": 3
   },
   "file_extension": ".py",
   "mimetype": "text/x-python",
   "name": "python",
   "nbconvert_exporter": "python",
   "pygments_lexer": "ipython3",
   "version": "3.8.5"
  }
 },
 "nbformat": 4,
 "nbformat_minor": 5
}
