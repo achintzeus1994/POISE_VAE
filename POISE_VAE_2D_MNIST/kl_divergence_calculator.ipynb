{
 "cells": [
  {
   "cell_type": "code",
   "execution_count": 1,
   "id": "potential-seminar",
   "metadata": {},
   "outputs": [],
   "source": [
    "import torch\n",
    "from torchviz import make_dot"
   ]
  },
  {
   "cell_type": "markdown",
   "id": "included-excess",
   "metadata": {},
   "source": [
    "The KL divergence is given by,\n",
    "<span class=\"math display\">\n",
    "    \\begin{aligned}\n",
    "    D_{KL}(q(\\mathbf{z, z'|x, x'}) \\Vert p(\\mathbf{z, z'})) &= \\mathrm{log}\\left[\\frac{\\tilde{q}_{\\phi}(z^{(i)},z'^{(i)}|x,x')}{\\tilde{p}_{\\theta}(z^{(i)},z'^{(i)})}\\right]-\\langle \\mathbf{sg}( \\mathbb{E}_q[T]),\\lambda\\rangle-\\langle \\mathbf{sg}( \\mathbb{E}_q[T']),\\lambda'\\rangle+(\\mathbb{E}_p-\\mathbb{E}_q)\\langle \\mathbf{sg}[T\\otimes T'],G\\rangle\n",
    "    \\end{aligned}\n",
    "</span>\n",
    "\n",
    "<span class=\"math display\">\n",
    "    \\begin{aligned}\n",
    "    T_{prior}&=[z_{prior},z^2_{prior}]\\\\\n",
    "    T'_{prior}&=[z'_{prior},z'^2_{prior}]\\\\\n",
    "    T_{posterior}&=[z_{posterior},z^2_{posterior}]\\\\\n",
    "    T'_{posterior}&=[z'_{posterior},z'^2_{posterior}]\\\\\n",
    "    \\lambda&=[\\lambda_1,\\lambda_2]\\\\\n",
    "    \\lambda'&=[\\lambda'_1,\\lambda'_2]\\\\\n",
    "    T_{prior}^2&=(z^2_{prior}+z'^2_{prior})\\\\\n",
    "    T_{posterior}^2&=(z^2_{posterior}+z'^2_{posterior})\n",
    "    \\end{aligned}\n",
    "</span>\n",
    "We also define,\n",
    "<span class=\"math display\">\n",
    "    \\begin{aligned}\n",
    "    \\mathrm{log}p_{prior}&=-T_{prior}^2+T_{posterior}*G*T'_{posterior}\\\\\n",
    "    \\mathrm{log}p_{posterior}&=-T_{posterior}^2+T_{posterior}*G*T'_{posterior}+\\lambda*T_{posterior}+\\lambda'*T'_{posterior}\\\\\n",
    "    \\end{aligned}\n",
    "</span>\n",
    "The three terms of the partition function are given by:\n",
    "<span class=\"math display\">\n",
    "    \\begin{aligned}\n",
    "    part_0&=\\sum \\mathrm{log}p_{posterior}-\\mathrm{log}p_{prior}=\\langle \\lambda,T_{posterior}\\rangle +\\langle \\lambda',T'_{posterior}\\rangle \\\\\n",
    "    part_1&=- \\langle \\lambda,sgd(T_{posterior})\\rangle -\\langle  \\lambda',sgd(T'_{posterior})\\rangle \\\\\n",
    "    part_2&=(\\mathbb{E}_p-\\mathbb{E}_q)\\langle \\mathbf{sg}[T\\otimes T'],G\\rangle=\\mathbb{E}_p\\langle \\mathbf{sg}[T_{prior}\\otimes T'_{prior}],G\\rangle-\\mathbb{E}_q\\langle \\mathbf{sg}[T_{posterior}\\otimes T'_{posterior}],G\\rangle\n",
    "    \\end{aligned}\n",
    "</span>"
   ]
  },
  {
   "cell_type": "code",
   "execution_count": 2,
   "id": "agricultural-cloud",
   "metadata": {},
   "outputs": [],
   "source": [
    "latent_dim1 = 1\n",
    "latent_dim2 = 32\n",
    "batch_size  = 1\n",
    "device = torch.device('cuda' if torch.cuda.is_available() else 'cpu')\n",
    "class kl_divergence():\n",
    "    def __init__(self):\n",
    "        pass\n",
    "\n",
    "    def calc(self,G,z1,z2,z1_prior,z2_prior,mu1,log_var1,mu2,log_var2):\n",
    "        ## Creating Sufficient statistics\n",
    "        T1_prior = torch.cat((z1_prior,torch.square(z1_prior)),1)     # sufficient statistics for prior of set1\n",
    "        T2_prior = torch.cat((z2_prior,torch.square(z2_prior)),1)     # sufficient statistics for prior of set2\n",
    "        T1_post = torch.cat((z1,torch.square(z1)),1)                  # sufficient statistics for posterior of set1\n",
    "        T2_post = torch.cat((z2,torch.square(z2)),1)                  # sufficient statistics for posterior of set2\n",
    "        lambda1 = torch.cat((mu1,log_var1),1)                         # Output of encoder for set1\n",
    "        lambda2 = torch.cat((mu2,log_var2),1)                         # Output of encoder for set2        \n",
    "        T_prior_sqrd = torch.sum(torch.square(z1_prior),1) +torch.sum(torch.square(z2_prior),1) #stores z^2+z'^2\n",
    "        T_post_sqrd  = torch.sum(torch.square(z1),1) +torch.sum(torch.square(z2),1)\n",
    "\n",
    "        part_fun0 = torch.sum(torch.mul(lambda1,T1_post))+torch.sum(torch.mul(lambda2,T2_post))\n",
    "        part_fun1 = -torch.sum(torch.mul(lambda1,T1_post.detach()))-torch.sum(torch.mul(lambda2,T2_post.detach())) #-lambda*Tq-lambda'Tq'\n",
    "      \n",
    "        T1_prior =T1_prior.unsqueeze(2)       #[128, 2]->[128, 2,1]\n",
    "        T2_prior =T2_prior.unsqueeze(1)       #[128, 64]->[128, 1,64]\n",
    "        T1_post  =T1_post.unsqueeze(2)        #[128, 2]->[128, 2,1]\n",
    "        T2_post  =T2_post.unsqueeze(1)        #[128, 64]->[128, 1,64]\n",
    "        Tprior_kron=torch.zeros(batch_size,2*latent_dim1,2*latent_dim2).to(device)   #[128, 2,64]\n",
    "        Tpost_kron=torch.zeros(batch_size,2*latent_dim1,2*latent_dim2).to(device)    #[128, 2,64]  \n",
    "\n",
    "        for i in range(batch_size):\n",
    "            Tprior_kron[i,:]=torch.kron(T1_prior[i,:], T2_prior[i,:])\n",
    "            Tpost_kron[i,:]=torch.kron(T1_post[i,:], T2_post[i,:])      \n",
    "\n",
    "        part_fun2 = torch.sum(torch.mul(Tprior_kron.detach(),G)-torch.mul(Tpost_kron.detach(),G))\n",
    "#         make_dot(part_fun0,params=dict(model.named_parameters())).render(\"part_fun0\", format=\"png\")\n",
    "#         make_dot(part_fun1,params=dict(model.named_parameters())).render(\"part_fun1\", format=\"png\")\n",
    "#         make_dot(part_fun2,params=dict(model.named_parameters())).render(\"part_fun2\", format=\"png\")\n",
    "\n",
    "#         print(part_fun0)\n",
    "#         print(part_fun1)\n",
    "#         print(part_fun2)\n",
    "        \n",
    "        return part_fun0,part_fun1,part_fun2"
   ]
  },
  {
   "cell_type": "code",
   "execution_count": null,
   "id": "celtic-defensive",
   "metadata": {},
   "outputs": [],
   "source": []
  },
  {
   "cell_type": "code",
   "execution_count": null,
   "id": "comparable-translator",
   "metadata": {},
   "outputs": [],
   "source": []
  }
 ],
 "metadata": {
  "kernelspec": {
   "display_name": "achint-env2",
   "language": "python",
   "name": "achint-env2"
  },
  "language_info": {
   "codemirror_mode": {
    "name": "ipython",
    "version": 3
   },
   "file_extension": ".py",
   "mimetype": "text/x-python",
   "name": "python",
   "nbconvert_exporter": "python",
   "pygments_lexer": "ipython3",
   "version": "3.8.10"
  }
 },
 "nbformat": 4,
 "nbformat_minor": 5
}
