{
 "cells": [
  {
   "cell_type": "code",
   "execution_count": 1,
   "id": "southeast-cancer",
   "metadata": {},
   "outputs": [
    {
     "name": "stdout",
     "output_type": "stream",
     "text": [
      "importing Jupyter notebook from gibbs_sampler_poise.ipynb\n",
      "importing Jupyter notebook from kl_divergence_calculator.ipynb\n"
     ]
    }
   ],
   "source": [
    "import torch\n",
    "import numpy as np\n",
    "from torch.utils.data import DataLoader\n",
    "import matplotlib\n",
    "import matplotlib.pyplot as plt\n",
    "import import_ipynb\n",
    "import gibbs_sampler_poise\n",
    "import kl_divergence_calculator\n",
    "from torchvision.utils import save_image\n",
    "import torch.nn as nn\n",
    "import torch.optim as optim\n",
    "from torchvision import datasets\n",
    "import torchvision.transforms as transforms\n",
    "from torch.nn import functional as F  #for the activation function\n",
    "from torchviz import make_dot\n",
    "from torch.utils.tensorboard import SummaryWriter\n",
    "from torchvision import datasets, transforms\n",
    "import torchvision\n",
    "import random\n",
    "random.seed(30)"
   ]
  },
  {
   "cell_type": "code",
   "execution_count": 2,
   "id": "monetary-mainstream",
   "metadata": {},
   "outputs": [],
   "source": [
    "def sample(mu, var, nb_samples):\n",
    "    \"\"\"\n",
    "    :param mu: torch.Tensor (features)\n",
    "    :param var: torch.Tensor (features) (note: zero covariance)\n",
    "    :return: torch.Tensor (nb_samples, features)\n",
    "    \"\"\"\n",
    "    out = []\n",
    "    for i in range(nb_samples):\n",
    "        out += [torch.normal(mu, var.sqrt())]\n",
    "    return torch.stack(out, dim=0)"
   ]
  },
  {
   "cell_type": "markdown",
   "id": "liable-patrick",
   "metadata": {},
   "source": [
    "**Synthetic dataset**\n",
    "The mean and variance of the first dataset be given by\n",
    "<span class=\"math display\">\n",
    "    \\begin{aligned}\n",
    "    \\mu_1&=1\\\\\n",
    "    \\sigma_1 &=1\n",
    "    \\end{aligned}\n",
    "</span>"
   ]
  },
  {
   "cell_type": "code",
   "execution_count": 3,
   "id": "developing-brave",
   "metadata": {},
   "outputs": [
    {
     "data": {
      "image/png": "[encoded data removed]",
      "text/plain": [
       "<Figure size 432x288 with 1 Axes>"
      ]
     },
     "metadata": {
      "needs_background": "light"
     },
     "output_type": "display_data"
    },
    {
     "data": {
      "image/png": "[encoded data removed]",
      "text/plain": [
       "<Figure size 432x288 with 1 Axes>"
      ]
     },
     "metadata": {
      "needs_background": "light"
     },
     "output_type": "display_data"
    }
   ],
   "source": [
    "## Creating synthetic datasets\n",
    "nb_samples=20000\n",
    "mu1  =torch.tensor(1.)   # . converts long to float\n",
    "var1 =torch.tensor(1.0)\n",
    "\n",
    "inp_data1=sample(mu1,var1,nb_samples)  \n",
    "inp_data1=inp_data1.unsqueeze(0)+torch.randn_like(inp_data1)##Adding gaussian noise to data\n",
    "inp_data1=torch.transpose(inp_data1,0,1)\n",
    "## for data visualization\n",
    "data_vis1=inp_data1.numpy()\n",
    "#Panel a\n",
    "n1,bins1,patches1=plt.hist(data_vis1,'auto',density=1)\n",
    "y1=1/(np.sqrt(2*np.pi*var1))*np.exp(-0.5*(bins1-mu1.numpy())**2/var1)\n",
    "plt.plot(bins1,y1,'--')\n",
    "plt.show()\n",
    "## Transforming data to a higher dimension\n",
    "\"\"\"\n",
    "inp_data= samplesx1\n",
    "fun_A   = 1xdim_exp\n",
    "data    = samplesxdim_exp   (data = inp_dataxfun_A)\n",
    "\"\"\"\n",
    "dim_exp = 2 \n",
    "fun_A1   = torch.normal(0, 1, size=(1, dim_exp))  ## random tensor of size dim_expxdata_samples mean=0, var=1, s\n",
    "data1    = inp_data1*fun_A1\n",
    "x1_cord = data1[:,0]\n",
    "y1_cord = data1[:,1]\n",
    "plt.plot(x1_cord,y1_cord, 'o', color='black')\n",
    "plt.show()"
   ]
  },
  {
   "cell_type": "code",
   "execution_count": 4,
   "id": "fitted-wallet",
   "metadata": {},
   "outputs": [],
   "source": [
    "## Hyperparameters\n",
    "epochs     = 100\n",
    "batch_size = 128\n",
    "lr         = 1e-4\n",
    "device     = torch.device('cuda' if torch.cuda.is_available() else 'cpu')\n",
    "tx = transforms.ToTensor()"
   ]
  },
  {
   "cell_type": "code",
   "execution_count": 5,
   "id": "willing-conjunction",
   "metadata": {},
   "outputs": [],
   "source": [
    "## Creating synthetic dataloader\n",
    "\n",
    "train_loader_set1 = DataLoader(\n",
    "    data1[0:int(0.8*nb_samples),],\n",
    "    batch_size=batch_size,\n",
    "    shuffle=False,\n",
    "    drop_last=True\n",
    ")\n",
    "test_loader_set1 = DataLoader(\n",
    "    data1[int(0.8*nb_samples):,],\n",
    "    batch_size=batch_size,\n",
    "    shuffle=False,\n",
    "    drop_last=True\n",
    ")\n",
    "train_mnist = datasets.MNIST(\n",
    "    root=\"/home/achint/Practice_code/VAE/MNIST\",\n",
    "    train=True,\n",
    "    download=True,\n",
    "    transform=tx\n",
    ")\n",
    "test_mnist = datasets.MNIST(\n",
    "    root=\"/home/achint/Practice_code/VAE/MNIST\",\n",
    "    train=False,\n",
    "    download=True,\n",
    "    transform=tx\n",
    ")\n",
    "# training and validation data loaders\n",
    "mnist_train_loader = DataLoader(\n",
    "    train_mnist,\n",
    "    batch_size=batch_size,\n",
    "    shuffle=False,\n",
    "    drop_last=True\n",
    ")\n",
    "mnist_val_loader = DataLoader(\n",
    "    test_mnist,\n",
    "    batch_size=batch_size,\n",
    "    shuffle=False,\n",
    "    drop_last=True\n",
    ")"
   ]
  },
  {
   "cell_type": "code",
   "execution_count": 6,
   "id": "mental-kuwait",
   "metadata": {},
   "outputs": [],
   "source": [
    "latent_dim1 = 1\n",
    "latent_dim2 = 32\n",
    "dim_MNIST   = 784\n",
    "class VAE(nn.Module):\n",
    "    def __init__(self):\n",
    "        super(VAE,self).__init__()\n",
    "        self.gibbs                   = gibbs_sampler_poise.gibbs_sampler()  \n",
    "        self.kl_div                  = kl_divergence_calculator.kl_divergence()\n",
    "        ## Encoder set1(Gaussian)\n",
    "        self.set1_enc1 = nn.Linear(in_features = dim_exp,out_features = 2*latent_dim1)\n",
    "        self.set1_enc2 = nn.Linear(in_features = 2*latent_dim1,out_features = 2*latent_dim1)\n",
    "        ## Encoder set2(MNIST)\n",
    "        self.set2_enc1 = nn.Linear(in_features = dim_MNIST,out_features = 512)\n",
    "        self.set2_enc2 = nn.Linear(in_features = 512,out_features = 128)\n",
    "        self.set2_enc3 = nn.Linear(in_features = 128,out_features = 2*latent_dim2)\n",
    "\n",
    "        ## Decoder set1(Gaussian)\n",
    "        self.set1_dec1 = nn.Linear(in_features = latent_dim1,out_features = dim_exp,bias=False)\n",
    "        ## Decoder set2(MNIST)\n",
    "        self.set2_dec1 = nn.Linear(in_features = latent_dim2,out_features = 128)\n",
    "        self.set2_dec2 = nn.Linear(in_features = 128,out_features = 512)\n",
    "        self.set2_dec3 = nn.Linear(in_features = 512,out_features = dim_MNIST)\n",
    "        self.register_parameter(name='g11', param = nn.Parameter(torch.randn(latent_dim1,latent_dim2)))\n",
    "        self.register_parameter(name='g22', param = nn.Parameter(torch.randn(latent_dim1,latent_dim2)))\n",
    "\n",
    "        self.flag_initialize= 1\n",
    "        self.g12= torch.zeros(latent_dim1,latent_dim2).to(device)\n",
    "    def forward(self,x1,x2):\n",
    "        data1    = x1 #Gaussian\n",
    "        data2    = x2 #MNIST\n",
    "        ## encoding\n",
    "# Modality 1 (Gaussian)\n",
    "        x1       = self.set1_enc1(x1)\n",
    "        x1       = self.set1_enc2(x1)\n",
    "        mu1      = x1[:,0]\n",
    "        mu1      = mu1.unsqueeze(0)\n",
    "        mu1      = torch.transpose(mu1,0,1)    \n",
    "        log_var1 = x1[:,1]\n",
    "        log_var1 = log_var1.unsqueeze(0)\n",
    "        log_var1 = torch.transpose(log_var1,0,1)    \n",
    "        var1     = -torch.exp(log_var1)         # lambda_2<0\n",
    "# Modality 2 (MNIST)\n",
    "        x2       = F.relu(self.set2_enc1(x2))\n",
    "        x2       = F.relu(self.set2_enc2(x2))  \n",
    "        x2       = self.set2_enc3(x2).view(-1,2,latent_dim2)  # ->[128,2,32]\n",
    "        mu2      = x2[:,0,:] # ->[128,32]\n",
    "        log_var2 = x2[:,1,:] # ->[128,32]\n",
    "        var2     = -torch.exp(log_var2)           #lambdap_2<0\n",
    "        g22      = -torch.exp(self.g22)     \n",
    "        \n",
    "\n",
    "        g11_copy = self.g11.detach()\n",
    "        g22_copy = g22.detach()\n",
    "        mu1_copy = mu1.detach()\n",
    "        mu2_copy = mu2.detach()\n",
    "        var1_copy=var1.detach()\n",
    "        var2_copy=var2.detach()   \n",
    "\n",
    "        if self.flag_initialize==1:\n",
    "            self.flag_initialize=0\n",
    "            z1_prior,z2_prior = self.gibbs.initialize_prior_sample(g11_copy,g22_copy)\n",
    "            z1_posterior,z2_posterior = self.gibbs.initialize_posterior_sample(g11_copy,g22_copy,mu1_copy,var1_copy,mu2_copy,var2_copy)\n",
    "            self.z1_prior =z1_prior\n",
    "            self.z2_prior =z2_prior\n",
    "            self.z1_posterior=z1_posterior\n",
    "            self.z2_posterior=z2_posterior\n",
    "        z1_prior     = self.z1_prior.detach()\n",
    "        z2_prior     = self.z2_prior.detach()\n",
    "        z1_posterior = self.z1_posterior.detach()\n",
    "        z2_posterior = self.z2_posterior.detach()\n",
    "        self.z1_gibbs_prior,self.z2_gibbs_prior         = self.gibbs.prior_sample(z1_prior,z2_prior,self.g11,g22)\n",
    "        self.z1_gibbs_posterior,self.z2_gibbs_posterior = self.gibbs.posterior_sample(z1_posterior,z2_posterior,self.g11,g22,mu1,var1,mu2,var2)\n",
    "        \n",
    "        self.z1_posterior = self.z1_gibbs_posterior.detach()\n",
    "        self.z2_posterior = self.z2_gibbs_posterior.detach()\n",
    "        self.z1_prior = self.z1_prior.detach()\n",
    "        self.z2_prior = self.z2_prior.detach()\n",
    "        G1 = torch.cat((self.g11,self.g12),0)\n",
    "        G2 = torch.cat((self.g12,g22),0)\n",
    "        G  = torch.cat((G1,G2),1)\n",
    "        part_fun0,part_fun1,part_fun2 = self.kl_div.calc(G,self.z1_gibbs_posterior,self.z2_gibbs_posterior,self.z1_gibbs_prior,self.z2_gibbs_prior,mu1,var1,mu2,var2)\n",
    "         ## decoding\n",
    "        reconstruction1=self.set1_dec1(self.z1_gibbs_posterior)\n",
    "        \n",
    "        x2=F.relu(self.set2_dec1(self.z2_gibbs_posterior))\n",
    "        x2=F.relu(self.set2_dec2(x2))\n",
    "        reconstruction2=torch.sigmoid(self.set2_dec3(x2))\n",
    "        ## loss\n",
    "        mse_loss = nn.MSELoss(reduction='sum')\n",
    "        bce_loss = nn.BCELoss(reduction='sum')\n",
    "        MSE1     = mse_loss(reconstruction1, data1)\n",
    "        MSE2     = bce_loss(reconstruction2, data2)\n",
    "        KLD      = part_fun0+part_fun1+part_fun2\n",
    "        loss     = MSE1+MSE2+KLD\n",
    "#         print('MSE1',torch.sum(MSE1))\n",
    "#         print('MSE2',torch.sum(MSE2))\n",
    "#         print('KLD',torch.sum(KLD))\n",
    "\n",
    "        if self.flag_initialize==0:\n",
    "#             make_dot(part_fun0,params=dict(model.named_parameters()),show_attrs=True, show_saved=True).render(\"part_fun0\", format=\"png\")\n",
    "#             make_dot(part_fun1,params=dict(model.named_parameters()),show_attrs=True, show_saved=True).render(\"part_fun1\", format=\"png\")\n",
    "#             make_dot(part_fun2,params=dict(model.named_parameters()),show_attrs=True, show_saved=True).render(\"part_fun2\", format=\"png\")\n",
    "#             make_dot(MSE1,params=dict(model.named_parameters()),show_attrs=True, show_saved=True).render(\"MSE1\", format=\"png\")\n",
    "#             make_dot(MSE2,params=dict(model.named_parameters()),show_attrs=True, show_saved=True).render(\"MSE2\", format=\"png\")\n",
    "            make_dot(self.z1_gibbs_prior,params=dict(model.named_parameters()),show_attrs=True, show_saved=True).render(\"z1_prior\", format=\"png\")\n",
    "            make_dot(self.z2_gibbs_prior,params=dict(model.named_parameters()),show_attrs=True, show_saved=True).render(\"z2_prior\", format=\"png\")\n",
    "            make_dot(self.z1_gibbs_posterior,params=dict(model.named_parameters()),show_attrs=True, show_saved=True).render(\"z1_posterior\", format=\"png\")\n",
    "            make_dot(self.z2_gibbs_posterior,params=dict(model.named_parameters()),show_attrs=True, show_saved=True).render(\"z2_posterior\", format=\"png\")\n",
    "            \n",
    "            self.flag_initialize=5\n",
    "        return reconstruction1,reconstruction2,mu1,var1,mu2,var2,loss"
   ]
  },
  {
   "cell_type": "code",
   "execution_count": 7,
   "id": "ranking-vocabulary",
   "metadata": {},
   "outputs": [
    {
     "name": "stdout",
     "output_type": "stream",
     "text": [
      "set1_enc1.weight\n",
      "set1_enc1.bias\n",
      "set1_enc2.weight\n",
      "set1_enc2.bias\n",
      "set2_enc1.weight\n",
      "set2_enc1.bias\n",
      "set2_enc2.weight\n",
      "set2_enc2.bias\n",
      "set2_enc3.weight\n",
      "set2_enc3.bias\n",
      "set1_dec1.weight\n",
      "set2_dec1.weight\n",
      "set2_dec1.bias\n",
      "set2_dec2.weight\n",
      "set2_dec2.bias\n",
      "set2_dec3.weight\n",
      "set2_dec3.bias\n"
     ]
    }
   ],
   "source": [
    "model = VAE().to(device)\n",
    "optimizer = optim.Adam(model.parameters(),lr=lr)\n",
    "for name, para in model.named_parameters():\n",
    "    print(name)"
   ]
  },
  {
   "cell_type": "code",
   "execution_count": 8,
   "id": "conservative-taiwan",
   "metadata": {},
   "outputs": [],
   "source": [
    "def train(model,dataloader1,dataloader2):\n",
    "    model.train()\n",
    "    running_loss = 0\n",
    "    for i,(data1,data2) in enumerate(zip(dataloader1,dataloader2)):\n",
    "        data2,label = data2\n",
    "        data1                        = data1.to(device)\n",
    "        data2                        = data2.to(device)     \n",
    "        data2 = data2.view(data2.size(0), -1)\n",
    "        optimizer.zero_grad()\n",
    "        reconstruction1,reconstruction2,mu1,var1,mu2,var2,loss       = model(data1,data2)     \n",
    "        running_loss                += loss.item()\n",
    "        loss.backward() \n",
    "        optimizer.step()\n",
    "#         for p in model.parameters():\n",
    "#             print(p.grad.norm())\n",
    "    train_loss = running_loss/(len(dataloader1.dataset)+len(dataloader2.dataset))\n",
    "#    writer.add_graph(model,[data1,data2])\n",
    "\n",
    "    return train_loss\n",
    "def test(model,dataloader1,dataloader2):\n",
    "    mean1_pred = []\n",
    "    var1_pred  = []\n",
    "    mean2_pred = []\n",
    "    var2_pred  = []\n",
    "    data1_val  = [] \n",
    "    data2_val  = [] \n",
    "    reconstruction1_pred=[]\n",
    "    reconstruction2_pred=[]\n",
    "    model.eval()\n",
    "    running_loss = 0.0\n",
    "    with torch.no_grad():\n",
    "        for i,(data1,data2) in enumerate(zip(dataloader1,dataloader2)):\n",
    "            data2,_ = data2\n",
    "            data1                        = data1.to(device)\n",
    "            data2                        = data2.to(device)       \n",
    "            data2 = data2.view(data2.size(0), -1)\n",
    "            reconstruction1,reconstruction2,mu1,var1,mu2,var2,loss = model(data1,data2)  \n",
    "            running_loss              += loss.item()\n",
    "            mean1_pred                += [torch.mean(mu1)]\n",
    "            var1_pred                 += [torch.mean(var1)]\n",
    "            mean2_pred                += [torch.mean(mu2)]\n",
    "            var2_pred                 += [torch.mean(var2)]\n",
    "            reconstruction1_pred.append(reconstruction1)\n",
    "            reconstruction2_pred.append(reconstruction2)\n",
    "            data1_val.append(data1)\n",
    "            data2_val.append(data2)\n",
    "            \n",
    "    test_loss   = running_loss/(len(dataloader1.dataset)+len(dataloader2.dataset))\n",
    "    reconstruction1_pred = torch.vstack(reconstruction1_pred)\n",
    "    reconstruction2_pred = torch.vstack(reconstruction2_pred)\n",
    "    data1_val   = torch.vstack(data1_val)\n",
    "    data2_val   = torch.vstack(data2_val)\n",
    "\n",
    "    mean1_pred  = torch.stack(mean1_pred,dim=0)\n",
    "    var1_pred   = torch.stack(var1_pred,dim=0)\n",
    "    mean1_pred  = torch.mean(mean1_pred)\n",
    "    var1_pred   = torch.mean(var1_pred)\n",
    "    mean2_pred  = torch.stack(mean2_pred,dim=0)\n",
    "    var2_pred   = torch.stack(var2_pred,dim=0)\n",
    "    mean2_pred  = torch.mean(mean2_pred)\n",
    "    var2_pred   = torch.mean(var2_pred)\n",
    "    return data1_val,data2_val,reconstruction1_pred,reconstruction2_pred,test_loss,mean1_pred,var1_pred,mean2_pred,var2_pred"
   ]
  },
  {
   "cell_type": "code",
   "execution_count": 9,
   "id": "imperial-serbia",
   "metadata": {},
   "outputs": [
    {
     "name": "stdout",
     "output_type": "stream",
     "text": [
      "Epoch 1 of 100\n",
      "Train Loss    : 77.3362\n",
      "Epoch 2 of 100\n",
      "Train Loss    : 45.3304\n",
      "Epoch 3 of 100\n",
      "Train Loss    : 43.7889\n",
      "Epoch 4 of 100\n"
     ]
    },
    {
     "ename": "KeyboardInterrupt",
     "evalue": "",
     "output_type": "error",
     "traceback": [
      "\u001b[0;31m---------------------------------------------------------------------\u001b[0m",
      "\u001b[0;31mKeyboardInterrupt\u001b[0m                   Traceback (most recent call last)",
      "\u001b[0;32m<ipython-input-9-47332f7b7909>\u001b[0m in \u001b[0;36m<module>\u001b[0;34m\u001b[0m\n\u001b[1;32m      3\u001b[0m \u001b[0;32mfor\u001b[0m \u001b[0mepoch\u001b[0m \u001b[0;32min\u001b[0m \u001b[0mrange\u001b[0m\u001b[0;34m(\u001b[0m\u001b[0mepochs\u001b[0m\u001b[0;34m)\u001b[0m\u001b[0;34m:\u001b[0m\u001b[0;34m\u001b[0m\u001b[0;34m\u001b[0m\u001b[0m\n\u001b[1;32m      4\u001b[0m     \u001b[0mprint\u001b[0m\u001b[0;34m(\u001b[0m\u001b[0;34mf\"Epoch {epoch+1} of {epochs}\"\u001b[0m\u001b[0;34m)\u001b[0m\u001b[0;34m\u001b[0m\u001b[0;34m\u001b[0m\u001b[0m\n\u001b[0;32m----> 5\u001b[0;31m     \u001b[0mtrain_epoch_loss\u001b[0m \u001b[0;34m=\u001b[0m \u001b[0mtrain\u001b[0m\u001b[0;34m(\u001b[0m\u001b[0mmodel\u001b[0m\u001b[0;34m,\u001b[0m\u001b[0mtrain_loader_set1\u001b[0m\u001b[0;34m,\u001b[0m\u001b[0mmnist_train_loader\u001b[0m\u001b[0;34m)\u001b[0m\u001b[0;34m\u001b[0m\u001b[0;34m\u001b[0m\u001b[0m\n\u001b[0m\u001b[1;32m      6\u001b[0m     \u001b[0mdata1_val\u001b[0m\u001b[0;34m,\u001b[0m\u001b[0mdata2_val\u001b[0m\u001b[0;34m,\u001b[0m\u001b[0mreconstruction1_pred\u001b[0m\u001b[0;34m,\u001b[0m\u001b[0mreconstruction2_pred\u001b[0m\u001b[0;34m,\u001b[0m\u001b[0mtest_epoch_loss\u001b[0m\u001b[0;34m,\u001b[0m\u001b[0mmean1_pred\u001b[0m\u001b[0;34m,\u001b[0m\u001b[0mvar1_pred\u001b[0m\u001b[0;34m,\u001b[0m\u001b[0mmean2_pred\u001b[0m\u001b[0;34m,\u001b[0m\u001b[0mvar2_pred\u001b[0m \u001b[0;34m=\u001b[0m \u001b[0mtest\u001b[0m\u001b[0;34m(\u001b[0m\u001b[0mmodel\u001b[0m\u001b[0;34m,\u001b[0m\u001b[0mtest_loader_set1\u001b[0m\u001b[0;34m,\u001b[0m\u001b[0mmnist_val_loader\u001b[0m\u001b[0;34m)\u001b[0m\u001b[0;34m\u001b[0m\u001b[0;34m\u001b[0m\u001b[0m\n\u001b[1;32m      7\u001b[0m     \u001b[0mdata1_val\u001b[0m\u001b[0;34m,\u001b[0m\u001b[0mdata2_val\u001b[0m\u001b[0;34m,\u001b[0m\u001b[0mreconstruction1_pred\u001b[0m\u001b[0;34m,\u001b[0m\u001b[0mreconstruction2_pred\u001b[0m\u001b[0;34m,\u001b[0m\u001b[0mtest_epoch_loss\u001b[0m\u001b[0;34m,\u001b[0m\u001b[0mmean1_pred\u001b[0m\u001b[0;34m,\u001b[0m\u001b[0mvar1_pred\u001b[0m\u001b[0;34m,\u001b[0m\u001b[0mmean2_pred\u001b[0m\u001b[0;34m,\u001b[0m\u001b[0mvar2_pred\u001b[0m \u001b[0;34m=\u001b[0m \u001b[0mtest\u001b[0m\u001b[0;34m(\u001b[0m\u001b[0mmodel\u001b[0m\u001b[0;34m,\u001b[0m\u001b[0mtrain_loader_set1\u001b[0m\u001b[0;34m,\u001b[0m\u001b[0mmnist_train_loader\u001b[0m\u001b[0;34m)\u001b[0m\u001b[0;34m\u001b[0m\u001b[0;34m\u001b[0m\u001b[0m\n",
      "\u001b[0;32m<ipython-input-8-0b2317c06626>\u001b[0m in \u001b[0;36mtrain\u001b[0;34m(model, dataloader1, dataloader2)\u001b[0m\n\u001b[1;32m     10\u001b[0m         \u001b[0mreconstruction1\u001b[0m\u001b[0;34m,\u001b[0m\u001b[0mreconstruction2\u001b[0m\u001b[0;34m,\u001b[0m\u001b[0mmu1\u001b[0m\u001b[0;34m,\u001b[0m\u001b[0mvar1\u001b[0m\u001b[0;34m,\u001b[0m\u001b[0mmu2\u001b[0m\u001b[0;34m,\u001b[0m\u001b[0mvar2\u001b[0m\u001b[0;34m,\u001b[0m\u001b[0mloss\u001b[0m       \u001b[0;34m=\u001b[0m \u001b[0mmodel\u001b[0m\u001b[0;34m(\u001b[0m\u001b[0mdata1\u001b[0m\u001b[0;34m,\u001b[0m\u001b[0mdata2\u001b[0m\u001b[0;34m)\u001b[0m\u001b[0;34m\u001b[0m\u001b[0;34m\u001b[0m\u001b[0m\n\u001b[1;32m     11\u001b[0m         \u001b[0mrunning_loss\u001b[0m                \u001b[0;34m+=\u001b[0m \u001b[0mloss\u001b[0m\u001b[0;34m.\u001b[0m\u001b[0mitem\u001b[0m\u001b[0;34m(\u001b[0m\u001b[0;34m)\u001b[0m\u001b[0;34m\u001b[0m\u001b[0;34m\u001b[0m\u001b[0m\n\u001b[0;32m---> 12\u001b[0;31m         \u001b[0mloss\u001b[0m\u001b[0;34m.\u001b[0m\u001b[0mbackward\u001b[0m\u001b[0;34m(\u001b[0m\u001b[0;34m)\u001b[0m\u001b[0;34m\u001b[0m\u001b[0;34m\u001b[0m\u001b[0m\n\u001b[0m\u001b[1;32m     13\u001b[0m         \u001b[0moptimizer\u001b[0m\u001b[0;34m.\u001b[0m\u001b[0mstep\u001b[0m\u001b[0;34m(\u001b[0m\u001b[0;34m)\u001b[0m\u001b[0;34m\u001b[0m\u001b[0;34m\u001b[0m\u001b[0m\n\u001b[1;32m     14\u001b[0m \u001b[0;31m#         for p in model.parameters():\u001b[0m\u001b[0;34m\u001b[0m\u001b[0;34m\u001b[0m\u001b[0;34m\u001b[0m\u001b[0m\n",
      "\u001b[0;32m~/achint-env2/lib/python3.8/site-packages/torch/_tensor.py\u001b[0m in \u001b[0;36mbackward\u001b[0;34m(self, gradient, retain_graph, create_graph, inputs)\u001b[0m\n\u001b[1;32m    253\u001b[0m                 \u001b[0mcreate_graph\u001b[0m\u001b[0;34m=\u001b[0m\u001b[0mcreate_graph\u001b[0m\u001b[0;34m,\u001b[0m\u001b[0;34m\u001b[0m\u001b[0;34m\u001b[0m\u001b[0m\n\u001b[1;32m    254\u001b[0m                 inputs=inputs)\n\u001b[0;32m--> 255\u001b[0;31m         \u001b[0mtorch\u001b[0m\u001b[0;34m.\u001b[0m\u001b[0mautograd\u001b[0m\u001b[0;34m.\u001b[0m\u001b[0mbackward\u001b[0m\u001b[0;34m(\u001b[0m\u001b[0mself\u001b[0m\u001b[0;34m,\u001b[0m \u001b[0mgradient\u001b[0m\u001b[0;34m,\u001b[0m \u001b[0mretain_graph\u001b[0m\u001b[0;34m,\u001b[0m \u001b[0mcreate_graph\u001b[0m\u001b[0;34m,\u001b[0m \u001b[0minputs\u001b[0m\u001b[0;34m=\u001b[0m\u001b[0minputs\u001b[0m\u001b[0;34m)\u001b[0m\u001b[0;34m\u001b[0m\u001b[0;34m\u001b[0m\u001b[0m\n\u001b[0m\u001b[1;32m    256\u001b[0m \u001b[0;34m\u001b[0m\u001b[0m\n\u001b[1;32m    257\u001b[0m     \u001b[0;32mdef\u001b[0m \u001b[0mregister_hook\u001b[0m\u001b[0;34m(\u001b[0m\u001b[0mself\u001b[0m\u001b[0;34m,\u001b[0m \u001b[0mhook\u001b[0m\u001b[0;34m)\u001b[0m\u001b[0;34m:\u001b[0m\u001b[0;34m\u001b[0m\u001b[0;34m\u001b[0m\u001b[0m\n",
      "\u001b[0;32m~/achint-env2/lib/python3.8/site-packages/torch/autograd/__init__.py\u001b[0m in \u001b[0;36mbackward\u001b[0;34m(tensors, grad_tensors, retain_graph, create_graph, grad_variables, inputs)\u001b[0m\n\u001b[1;32m    145\u001b[0m         \u001b[0mretain_graph\u001b[0m \u001b[0;34m=\u001b[0m \u001b[0mcreate_graph\u001b[0m\u001b[0;34m\u001b[0m\u001b[0;34m\u001b[0m\u001b[0m\n\u001b[1;32m    146\u001b[0m \u001b[0;34m\u001b[0m\u001b[0m\n\u001b[0;32m--> 147\u001b[0;31m     Variable._execution_engine.run_backward(\n\u001b[0m\u001b[1;32m    148\u001b[0m         \u001b[0mtensors\u001b[0m\u001b[0;34m,\u001b[0m \u001b[0mgrad_tensors_\u001b[0m\u001b[0;34m,\u001b[0m \u001b[0mretain_graph\u001b[0m\u001b[0;34m,\u001b[0m \u001b[0mcreate_graph\u001b[0m\u001b[0;34m,\u001b[0m \u001b[0minputs\u001b[0m\u001b[0;34m,\u001b[0m\u001b[0;34m\u001b[0m\u001b[0;34m\u001b[0m\u001b[0m\n\u001b[1;32m    149\u001b[0m         allow_unreachable=True, accumulate_grad=True)  # allow_unreachable flag\n",
      "\u001b[0;31mKeyboardInterrupt\u001b[0m: "
     ]
    }
   ],
   "source": [
    "train_loss = []\n",
    "test_loss = []\n",
    "for epoch in range(epochs):\n",
    "    print(f\"Epoch {epoch+1} of {epochs}\")\n",
    "    train_epoch_loss = train(model,train_loader_set1,mnist_train_loader)\n",
    "    data1_val,data2_val,reconstruction1_pred,reconstruction2_pred,test_epoch_loss,mean1_pred,var1_pred,mean2_pred,var2_pred = test(model,test_loader_set1,mnist_val_loader)\n",
    "    data1_val,data2_val,reconstruction1_pred,reconstruction2_pred,test_epoch_loss,mean1_pred,var1_pred,mean2_pred,var2_pred = test(model,train_loader_set1,mnist_train_loader)\n",
    "\n",
    "    train_loss.append(train_epoch_loss)\n",
    "    test_loss.append(test_epoch_loss)\n",
    "    num_rows = 8\n",
    "    num_samples = data2_val.shape[0]\n",
    "    both = torch.cat((data2_val.view(num_samples, 1, 28, 28)[:8],reconstruction2_pred.view(num_samples, 1, 28, 28)[:8]))\n",
    "    save_image(both.cpu(), f\"/home/achint/Practice_code/Synthetic_dataset/POISE_VAE_2D_MNIST/reconstructions/outputMNIST_{epoch}.png\", nrow=num_rows)    \n",
    "#     writer.add_scalar('train_loss',train_epoch_loss,epoch)\n",
    "#     for name, para in model.named_parameters():\n",
    "#         print(para)\n",
    "    print(f\"Train Loss    : {train_epoch_loss:.4f}\")\n",
    "#writer.close()\n",
    "print(f\"Test Loss     :  {test_epoch_loss:.4f}\")\n",
    "print(f\"Mean Pred set1:  {mean1_pred:.4f}\")\n",
    "print(f\"Var  Pred set1:  {var1_pred:.4f}\")\n",
    "print(f\"Mean Pred set2:  {mean2_pred:.4f}\")\n",
    "print(f\"Var  Pred set2:  {var2_pred:.4f}\")"
   ]
  },
  {
   "cell_type": "code",
   "execution_count": 11,
   "id": "severe-attachment",
   "metadata": {},
   "outputs": [
    {
     "data": {
      "image/png": "[encoded data removed]",
      "text/plain": [
       "<Figure size 432x144 with 2 Axes>"
      ]
     },
     "metadata": {
      "needs_background": "light"
     },
     "output_type": "display_data"
    }
   ],
   "source": [
    "flg,(ax1,ax2)=plt.subplots(1,2,figsize=(6, 2))\n",
    "ax1.plot(train_loss)\n",
    "ax1.set(xlabel='x',ylabel='loss',title='training loss')\n",
    "ax2.plot(test_loss)\n",
    "ax2.set(xlabel='x',ylabel='loss',title='test loss')\n",
    "flg.tight_layout()\n",
    "plt.show()"
   ]
  },
  {
   "cell_type": "code",
   "execution_count": 12,
   "id": "dated-pantyhose",
   "metadata": {},
   "outputs": [
    {
     "data": {
      "image/png": "[encoded data removed]",
      "text/plain": [
       "<Figure size 432x288 with 1 Axes>"
      ]
     },
     "metadata": {
      "needs_background": "light"
     },
     "output_type": "display_data"
    }
   ],
   "source": [
    "reconstruction1_x_cord = reconstruction1_pred[:,0].cpu().detach().numpy()\n",
    "reconstruction1_y_cord = reconstruction1_pred[:,1].cpu().detach().numpy()\n",
    "data1_x_cord = data1_val[:,0].cpu().detach().numpy()\n",
    "data1_y_cord = data1_val[:,1].cpu().detach().numpy()\n",
    "plt.plot(data1_x_cord,data1_y_cord, 'o', color='black',label='true set1')\n",
    "plt.plot(reconstruction1_x_cord,reconstruction1_y_cord, 'o', color='brown',label='recon set1')\n",
    "plt.legend()\n",
    "plt.show()"
   ]
  },
  {
   "cell_type": "code",
   "execution_count": null,
   "id": "economic-joshua",
   "metadata": {},
   "outputs": [],
   "source": []
  }
 ],
 "metadata": {
  "kernelspec": {
   "display_name": "achint-env2",
   "language": "python",
   "name": "achint-env2"
  },
  "language_info": {
   "codemirror_mode": {
    "name": "ipython",
    "version": 3
   },
   "file_extension": ".py",
   "mimetype": "text/x-python",
   "name": "python",
   "nbconvert_exporter": "python",
   "pygments_lexer": "ipython3",
   "version": "3.8.10"
  }
 },
 "nbformat": 4,
 "nbformat_minor": 5
}
